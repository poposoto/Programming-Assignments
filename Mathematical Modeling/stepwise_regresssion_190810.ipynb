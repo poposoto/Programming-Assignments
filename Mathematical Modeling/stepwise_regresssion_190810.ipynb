{
 "cells": [
  {
   "cell_type": "code",
   "execution_count": 1,
   "metadata": {},
   "outputs": [],
   "source": [
    "import statsmodels.formula.api as smf\n",
    "\n",
    "def bidirectional_elimination(data, response):\n",
    "    \"\"\"Linear model designed by bidirectional elimination.\n",
    "\n",
    "    Parameters:\n",
    "    -----------\n",
    "    data : pandas DataFrame with all possible predictors and response\n",
    "\n",
    "    response: string, name of response column in data\n",
    "\n",
    "    Returns:\n",
    "    --------\n",
    "    model: an \"optimal\" fitted statsmodels linear model\n",
    "    with an intercept\n",
    "    selected by bidirectional elimination\n",
    "    evaluated by adjusted R-squared\n",
    "    entrance tolerance is 0.05\n",
    "    exit tolerance is 0.10\n",
    "\n",
    "    References:\n",
    "    -----------\n",
    "    [1] https://planspace.org/20150423-forward_selection_with_statsmodels/\\n\n",
    "    [2] https://en.wikipedia.org/wiki/Stepwise_regression\n",
    "    \"\"\"\n",
    "    remaining = set(data.columns)\n",
    "    remaining.remove(response)\n",
    "    selected = []\n",
    "    current_score = 0.0\n",
    "    while remaining:\n",
    "        good_scores_with_candidates = []\n",
    "        for candidate in remaining:\n",
    "            formula = \"{0} ~ {1} + 1\".format(response,\n",
    "                                             ' + '.join(selected + [candidate]))\n",
    "            model = smf.ols(formula, data).fit()\n",
    "            score = model.rsquared_adj\n",
    "            if score > current_score and model.pvalues[str(candidate)] < 0.05:\n",
    "                good_scores_with_candidates.append((score, candidate))\n",
    "        if good_scores_with_candidates == []:\n",
    "            formula = \"{0} ~ {1} + 1\".format(response, ' + '.join(selected))\n",
    "            model = smf.ols(formula, data).fit()\n",
    "            break\n",
    "        good_scores_with_candidates.sort()\n",
    "        best_candidate = good_scores_with_candidates.pop()[1]\n",
    "        selected.append(best_candidate)\n",
    "        remaining.remove(best_candidate)\n",
    "        formula = \"{0} ~ {1} + 1\".format(response, ' + '.join(selected))\n",
    "        model = smf.ols(formula, data).fit()\n",
    "        for x in model.params.index[1:]:\n",
    "            if model.pvalues[x] > 0.10:\n",
    "                selected.remove(x)\n",
    "                remaining.add(x)\n",
    "        current_score = score\n",
    "    return model"
   ]
  },
  {
   "cell_type": "code",
   "execution_count": 2,
   "metadata": {},
   "outputs": [
    {
     "name": "stdout",
     "output_type": "stream",
     "text": [
      "                            OLS Regression Results                            \n",
      "==============================================================================\n",
      "Dep. Variable:                      y   R-squared:                       0.981\n",
      "Model:                            OLS   Adj. R-squared:                  0.976\n",
      "Method:                 Least Squares   F-statistic:                     193.9\n",
      "Date:                Sat, 10 Aug 2019   Prob (F-statistic):           8.40e-10\n",
      "Time:                        17:34:50   Log-Likelihood:                -91.561\n",
      "No. Observations:                  15   AIC:                             191.1\n",
      "Df Residuals:                      11   BIC:                             194.0\n",
      "Df Model:                           3                                         \n",
      "Covariance Type:            nonrobust                                         \n",
      "==============================================================================\n",
      "                 coef    std err          t      P>|t|      [0.025      0.975]\n",
      "------------------------------------------------------------------------------\n",
      "Intercept     75.8067     71.109      1.066      0.309     -80.702     232.316\n",
      "x4             0.0129      0.004      3.038      0.011       0.004       0.022\n",
      "x1             0.0035      0.001      6.086      0.000       0.002       0.005\n",
      "x6             0.0044      0.001      3.052      0.011       0.001       0.008\n",
      "==============================================================================\n",
      "Omnibus:                        0.817   Durbin-Watson:                   1.403\n",
      "Prob(Omnibus):                  0.665   Jarque-Bera (JB):                0.772\n",
      "Skew:                           0.423   Prob(JB):                        0.680\n",
      "Kurtosis:                       2.279   Cond. No.                     3.39e+05\n",
      "==============================================================================\n",
      "\n",
      "Warnings:\n",
      "[1] Standard Errors assume that the covariance matrix of the errors is correctly specified.\n",
      "[2] The condition number is large, 3.39e+05. This might indicate that there are\n",
      "strong multicollinearity or other numerical problems.\n"
     ]
    },
    {
     "name": "stderr",
     "output_type": "stream",
     "text": [
      "D:\\anaconda\\lib\\site-packages\\scipy\\stats\\stats.py:1416: UserWarning: kurtosistest only valid for n>=20 ... continuing anyway, n=15\n",
      "  \"anyway, n=%i\" % int(n))\n"
     ]
    }
   ],
   "source": [
    "import pandas as pd\n",
    "\n",
    "data = pd.read_csv('C:\\\\Users\\\\poposoto\\\\Desktop\\\\model\\\\810\\\\股票变化.csv', index_col=0)\n",
    "model = bidirectional_elimination(data, 'y')\n",
    "print(model.summary())"
   ]
  }
 ],
 "metadata": {
  "kernelspec": {
   "display_name": "Python 3",
   "language": "python",
   "name": "python3"
  },
  "language_info": {
   "codemirror_mode": {
    "name": "ipython",
    "version": 3
   },
   "file_extension": ".py",
   "mimetype": "text/x-python",
   "name": "python",
   "nbconvert_exporter": "python",
   "pygments_lexer": "ipython3",
   "version": "3.7.3"
  }
 },
 "nbformat": 4,
 "nbformat_minor": 2
}
