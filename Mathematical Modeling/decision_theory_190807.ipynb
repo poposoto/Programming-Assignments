{
 "cells": [
  {
   "cell_type": "code",
   "execution_count": 1,
   "metadata": {},
   "outputs": [],
   "source": [
    "import numpy as np\n",
    "import pandas as pd"
   ]
  },
  {
   "cell_type": "markdown",
   "metadata": {},
   "source": [
    "不确定型决策"
   ]
  },
  {
   "cell_type": "code",
   "execution_count": 2,
   "metadata": {},
   "outputs": [
    {
     "name": "stdout",
     "output_type": "stream",
     "text": [
      "[[  0   0   0   0   0]\n",
      " [-10  50  50  50  50]\n",
      " [-20  40 100 100 100]\n",
      " [-30  30  90 150 150]\n",
      " [-40  20  80 140 200]]\n"
     ]
    }
   ],
   "source": [
    "A = np.array([[5*s*(e>=s) + (6*e-s)*(e<s) \\\n",
    "               for e in np.arange(0,50,10)] \\\n",
    "              for s in np.arange(0,50,10)])\n",
    "print(A)"
   ]
  },
  {
   "cell_type": "markdown",
   "metadata": {},
   "source": [
    "悲观主义准则"
   ]
  },
  {
   "cell_type": "code",
   "execution_count": 3,
   "metadata": {},
   "outputs": [
    {
     "name": "stdout",
     "output_type": "stream",
     "text": [
      "0\n",
      "0\n"
     ]
    }
   ],
   "source": [
    "A_min = A.min(axis=1)\n",
    "print(np.argmax(A_min))\n",
    "print(A_min.max())"
   ]
  },
  {
   "cell_type": "markdown",
   "metadata": {},
   "source": [
    "乐观主义准则"
   ]
  },
  {
   "cell_type": "code",
   "execution_count": 4,
   "metadata": {},
   "outputs": [
    {
     "name": "stdout",
     "output_type": "stream",
     "text": [
      "4\n",
      "200\n"
     ]
    }
   ],
   "source": [
    "A_max = A.max(axis=1)\n",
    "print(np.argmax(A_max))\n",
    "print(A_max.max())"
   ]
  },
  {
   "cell_type": "markdown",
   "metadata": {},
   "source": [
    "等可能准则"
   ]
  },
  {
   "cell_type": "code",
   "execution_count": 5,
   "metadata": {},
   "outputs": [
    {
     "name": "stdout",
     "output_type": "stream",
     "text": [
      "4\n",
      "80.0\n"
     ]
    }
   ],
   "source": [
    "A_mean = A.mean(axis=1)\n",
    "print(np.argmax(A_mean))\n",
    "print(A_mean.max())"
   ]
  },
  {
   "cell_type": "markdown",
   "metadata": {},
   "source": [
    "最小机会损失准则"
   ]
  },
  {
   "cell_type": "code",
   "execution_count": 6,
   "metadata": {
    "scrolled": true
   },
   "outputs": [
    {
     "name": "stdout",
     "output_type": "stream",
     "text": [
      "4\n",
      "40\n"
     ]
    }
   ],
   "source": [
    "A_lost = A.max(axis=0) - A\n",
    "A_lost_max = A_lost.max(axis=1)\n",
    "print(np.argmin(A_lost_max))\n",
    "print(A_lost_max.min())"
   ]
  },
  {
   "cell_type": "markdown",
   "metadata": {},
   "source": [
    "折中主义原则"
   ]
  },
  {
   "cell_type": "code",
   "execution_count": 7,
   "metadata": {},
   "outputs": [],
   "source": [
    "param = 1/3\n",
    "# param = eval(input())"
   ]
  },
  {
   "cell_type": "code",
   "execution_count": 8,
   "metadata": {
    "scrolled": true
   },
   "outputs": [
    {
     "name": "stdout",
     "output_type": "stream",
     "text": [
      "4\n",
      "39.999999999999986\n"
     ]
    }
   ],
   "source": [
    "A_comp = param * A_max + (1-param) * A_min\n",
    "print(np.argmax(A_comp))\n",
    "print(A_comp.max())"
   ]
  },
  {
   "cell_type": "markdown",
   "metadata": {},
   "source": [
    "=======================================\n",
    "$$$$\n",
    "多目标决策"
   ]
  },
  {
   "cell_type": "code",
   "execution_count": 9,
   "metadata": {},
   "outputs": [],
   "source": [
    "def f(X):\n",
    "    \"\"\"检验层次单排序一致性\n",
    "    \n",
    "    输入：\n",
    "        X：ndarray方阵\n",
    "    \n",
    "    返回：\n",
    "        w：归一化特征向量\n",
    "        CI\n",
    "        RI\n",
    "    \"\"\"\n",
    "    n = np.trace(X)\n",
    "    C, V = np.linalg.eig(X)\n",
    "    CI = np.abs((C.max() - n) / (n - 1))\n",
    "    RI = {1:0, 2:0, 3:0.58, 4:0.90, 5:1.12, 6:1.24, 7:1.32, 8:1.41, 9:1.45, 10:1.49}\n",
    "    RI = RI[n]\n",
    "    CR = CI / RI\n",
    "    if CR < 0.1:\n",
    "        print('判断矩阵的一致性较好')\n",
    "    else:\n",
    "        print('判断矩阵的一致性较差')\n",
    "    w = V[:, np.argmax(C)]\n",
    "    w = np.abs(w / sum(w))\n",
    "    return w, CI, RI\n",
    "def f2(X):\n",
    "    \"\"\"检验层次总排序一致性\n",
    "    \n",
    "    输入：\n",
    "        X：列表，元素为ndarray方阵\n",
    "    \n",
    "    返回：\n",
    "        head：准则层权值\n",
    "        body：方案层单排序权值\n",
    "        tail：总排序权值\n",
    "    \"\"\"\n",
    "    fX = [f(i) for i in X]\n",
    "    head = fX[0][0]\n",
    "    body = np.hstack([fX[i][0][:, np.newaxis] for i in range(1, N + 1)])\n",
    "    tail = (head * body).sum(axis=1)\n",
    "    CI = ([fX[i][1] for i in range(1, N + 1)] * head).sum()\n",
    "    RI = ([fX[i][2] for i in range(1, N + 1)] * head).sum()\n",
    "    CR = CI / RI\n",
    "    if CR < 0.1:\n",
    "        print('层次总排序的一致性较好')\n",
    "    else:\n",
    "        print('层次总排序的一致性较差')\n",
    "    return head, body, tail\n",
    "def f3(X):\n",
    "    \"\"\"构造层次分析结果表\n",
    "    \n",
    "    输入：\n",
    "        X：列表，元素为ndarray方阵\n",
    "    \n",
    "    返回：\n",
    "        tbl：DataFrame\n",
    "    \"\"\"\n",
    "    head, body, tail = f2(X)\n",
    "    tail = np.concatenate([[np.nan], tail])[:, np.newaxis]\n",
    "    tbl = np.hstack([np.vstack([head, body]), tail])\n",
    "    tbl = pd.DataFrame(tbl)\n",
    "    tbl\n",
    "    return tbl"
   ]
  },
  {
   "cell_type": "code",
   "execution_count": 10,
   "metadata": {},
   "outputs": [],
   "source": [
    "# 课件案例\n",
    "N = 6 # 方案层元素个数，A0为准则层判断矩阵，A1及往后为方案层判断矩阵\n",
    "A0 = np.array([[1, 1, 1, 4, 1, 1/2],\\\n",
    "               [1, 1, 2, 4, 1, 1/2],\\\n",
    "               [1, 1/2, 1, 5, 3, 1/2],\\\n",
    "               [1/4, 1/4, 1/5, 1, 1/3, 1/3],\\\n",
    "               [1, 1, 1/3, 3, 1, 1],\\\n",
    "               [2, 2, 2, 3, 3, 1]])\n",
    "A1 = np.array([[1, 1/4, 1/2],\\\n",
    "               [4, 1, 3],\\\n",
    "               [2, 1/3, 1]])\n",
    "A2 = np.array([[1, 1/4, 1/5],\\\n",
    "               [4, 1, 1/2],\\\n",
    "               [5, 2, 1]])\n",
    "A3 = np.array([[1, 3, 1/3],\\\n",
    "               [1/3, 1, 1/7],\\\n",
    "               [3, 1, 1]])\n",
    "A4 = np.array([[1, 1/3, 5],\\\n",
    "               [3, 1, 7],\\\n",
    "               [1/5, 1/7, 1]])\n",
    "A5 = np.array([[1, 1, 7],\\\n",
    "               [1, 1, 7],\\\n",
    "               [1/7, 1/7, 1]])\n",
    "A6 = np.array([[1, 7, 9],\\\n",
    "               [1/7, 1, 1],\\\n",
    "               [1/9, 1, 1]])\n",
    "A = [eval('A' + str(i)) for i in range(N + 1)]\n",
    "#with pd.ExcelWriter('C:\\\\Users\\\\poposoto\\\\Desktop\\\\model\\\\807\\\\output1.xlsx') as writer:\n",
    "#    f3(A).to_excel(writer)"
   ]
  },
  {
   "cell_type": "code",
   "execution_count": 11,
   "metadata": {},
   "outputs": [],
   "source": [
    "# 实例1\n",
    "# https://wenku.baidu.com/view/e3fabf45bb1aa8114431b90d6c85ec3a87c28b28.html\n",
    "N = 3 # 方案层元素个数，A0为准则层判断矩阵，A1及往后为方案层判断矩阵\n",
    "A0 = np.array([[1, 1/5, 1/3],\\\n",
    "              [5, 1, 3],\\\n",
    "              [3, 1/3, 1]])\n",
    "A1 = np.array([[1, 2, 3, 4, 7],\\\n",
    "               [1/2, 1, 2, 3, 6],\\\n",
    "               [1/3, 1/2, 1, 2, 5],\\\n",
    "               [1/4, 1/3, 1/2, 1, 4],\\\n",
    "               [1/7, 1/6, 1/5, 1/4, 1]])\n",
    "A2 = np.array([[0, 0, 0, 0, 0],\\\n",
    "               [0, 1, 1/7, 1/3, 1/5],\\\n",
    "               [0, 7, 1, 5, 3],\\\n",
    "               [0, 3, 1/5, 1, 1/3],\\\n",
    "               [0, 5, 1/3, 3, 1]])\n",
    "A3 = np.array([[1, 1, 3, 3, 0],\\\n",
    "               [1, 1, 3, 3, 0],\\\n",
    "               [1/3, 1/3, 1, 1, 0],\\\n",
    "               [1/3, 1/3, 1, 1, 0],\\\n",
    "               [0, 0, 0, 0, 0]])\n",
    "A = [eval('A' + str(i)) for i in range(N + 1)]\n",
    "#with pd.ExcelWriter('C:\\\\Users\\\\poposoto\\\\Desktop\\\\model\\\\807\\\\output2.xlsx') as writer:\n",
    "#    f3(A).to_excel(writer)"
   ]
  }
 ],
 "metadata": {
  "kernelspec": {
   "display_name": "Python 3",
   "language": "python",
   "name": "python3"
  },
  "language_info": {
   "codemirror_mode": {
    "name": "ipython",
    "version": 3
   },
   "file_extension": ".py",
   "mimetype": "text/x-python",
   "name": "python",
   "nbconvert_exporter": "python",
   "pygments_lexer": "ipython3",
   "version": "3.7.3"
  }
 },
 "nbformat": 4,
 "nbformat_minor": 2
}
