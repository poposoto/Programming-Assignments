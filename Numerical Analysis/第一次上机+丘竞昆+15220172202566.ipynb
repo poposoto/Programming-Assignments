{
 "cells": [
  {
   "cell_type": "markdown",
   "metadata": {},
   "source": [
    "# 基础设置"
   ]
  },
  {
   "cell_type": "code",
   "execution_count": 1,
   "metadata": {},
   "outputs": [],
   "source": [
    "# 调用所需程序包\n",
    "import matplotlib.pyplot as plt\n",
    "import numpy as np\n",
    "import pandas as pd\n",
    "import scipy as sp\n",
    "import seaborn\n",
    "from numpy.polynomial import Polynomial"
   ]
  },
  {
   "cell_type": "code",
   "execution_count": 2,
   "metadata": {},
   "outputs": [],
   "source": [
    "# 设置绘图环境\n",
    "seaborn.set()\n",
    "plt.rcParams['font.sans-serif'] = ['SimHei']\n",
    "plt.rcParams['axes.unicode_minus'] = False"
   ]
  },
  {
   "cell_type": "code",
   "execution_count": 3,
   "metadata": {},
   "outputs": [],
   "source": [
    "# 设置随机数种子\n",
    "random = np.random.RandomState(2202566)"
   ]
  },
  {
   "cell_type": "code",
   "execution_count": 4,
   "metadata": {},
   "outputs": [],
   "source": [
    "# 设置被插函数\n",
    "f = lambda x: np.exp(-x / 2) * (x >= 0) * (x <= 2)"
   ]
  },
  {
   "cell_type": "code",
   "execution_count": 5,
   "metadata": {},
   "outputs": [],
   "source": [
    "# 设置插值逼近函数\n",
    "def 插值逼近(n):\n",
    "    '''输入插值节点个数n\n",
    "    输出指定点插值的截断误差以及可视化结果\n",
    "    返回基于课本第二章1~5节计算得到的插值多项式\n",
    "    \n",
    "    算法一：待定系数法->n次多项式\n",
    "    算法二：Lagrange插值法->n次多项式\n",
    "    算法三：逐次线性插值法->n次多项式\n",
    "    算法四：Newton插值法->n次多项式\n",
    "    算法五：Hermite插值法->2n+1次多项式\n",
    "    \n",
    "    鉴于算法一与算法四的结果仅存在精度上的细微差异，\n",
    "    进行n次插值函数的截断误差及可视化处理时将使用算法一得到的插值多项式\n",
    "    \n",
    "    多项式的数据类型为numpy.polynomial.polynomial.Polynomial'''\n",
    "    \n",
    "    # 设置插值节点\n",
    "    x = random.uniform(0, 2, n)\n",
    "    y = f(x)\n",
    "    y_prime = sp.misc.derivative(f, x, 1e-6)\n",
    "    \n",
    "    # 设置截断误差计算节点\n",
    "    xx = np.linspace(0, 2, 11)\n",
    "    yy = f(xx)\n",
    "    \n",
    "    # 设置用于记录各个算法计算结果的栈\n",
    "    p = []\n",
    "    \n",
    "    # 算法一：利用待定系数法直接计算\n",
    "    v = np.vander(x)\n",
    "    p1 = np.linalg.solve(v, y)\n",
    "    p1 = p1[::-1]\n",
    "    p1 = Polynomial(p1)\n",
    "    p.append(p1)\n",
    "    \n",
    "    # 算法二：利用Lagrange插值多项式计算\n",
    "    Lagrange = [Polynomial(1) for I in range(n)]\n",
    "    for I in range(n): # 处理累加\n",
    "        for J in range(n): # 处理累乘\n",
    "            if J is not I:\n",
    "                Lagrange[I] *= Polynomial([-x[J], 1]) / (x[I] - x[J])\n",
    "    p2 = sum([y[I] * Lagrange[I] for I in range(n)])\n",
    "    p.append(p2)\n",
    "    \n",
    "    # 算法三：利用逐次线性插值法计算\n",
    "    Aitken = [Polynomial(y[I]) for I in range(n)]\n",
    "    for I in range(1, n): # 处理逐次插值\n",
    "        for J in np.arange(I, n)[::-1]: # 处理节点合并\n",
    "            k = (Aitken[J] - Aitken[J-1]) / (x[J] - x[J-I])\n",
    "            Aitken[J] = Aitken[J-1] + k * (Polynomial([0, 1]) - x[J-I])\n",
    "    p3 = Aitken[-1]\n",
    "    p.append(p3)\n",
    "    \n",
    "    # 算法四：利用Newton插值多项式计算\n",
    "    Newton = [Polynomial(y[I]) for I in range(n)]\n",
    "    for I in range(1, n): # 处理逐阶差商\n",
    "        for J in np.arange(I, n)[::-1]: # 处理节点合并，此处类似算法三\n",
    "            Newton[J] = (Newton[J] - Newton[J-1]) / (x[J] - x[J-I])\n",
    "    for I in range(n): # 处理累加\n",
    "        for J in range(I): # 处理累乘，此处类似算法二\n",
    "            Newton[I] *= Polynomial([-x[J], 1])\n",
    "    p4 = sum(Newton)\n",
    "    p.append(p4)\n",
    "    \n",
    "    # 算法五：利用Hermite插值多项式计算\n",
    "    Hermite = [(1 - 2*Polynomial([-x[I], 1])*Lagrange[I].deriv()(x[I])) *\\\n",
    "               Lagrange[I]**2 for I in range(n)] # 利用算法二得到的Lagrange列表\n",
    "    Hermite_prime = [Polynomial([-x[I], 1]) * \\\n",
    "                     Lagrange[I]**2 for I in range(n)]\n",
    "    p5 = sum([y[I] * Hermite[I] +\\\n",
    "              y_prime[I] * Hermite_prime[I] for I in range(n)])\n",
    "    p.append(p5)\n",
    "    \n",
    "    # 计算截断误差\n",
    "    df = {'自变量':xx, '被插函数值':yy,\\\n",
    "          'n次插值函数值':p1(xx), 'n次截断误差':yy - p1(xx),\\\n",
    "          'Hermite插值函数值':p5(xx), 'Hermite截断误差':yy - p5(xx)}\n",
    "    df = pd.DataFrame(df)\n",
    "    display(df)\n",
    "    \n",
    "    # 绘制可视化结果\n",
    "    fig, ax = plt.subplots(figsize=(12, 9))\n",
    "    ax.plot(x, y, 'r*', label='插值节点')\n",
    "    ax.plot(xx, p1(xx), 'b', label=r'$n$次插值多项式$P_n$')\n",
    "    ax.plot(xx, p5(xx), 'g', label=r'Hermite插值多项式$H_{2n+1}$')\n",
    "    ax.legend();\n",
    "    return p"
   ]
  },
  {
   "cell_type": "markdown",
   "metadata": {},
   "source": [
    "# 第一题"
   ]
  },
  {
   "cell_type": "code",
   "execution_count": 6,
   "metadata": {
    "scrolled": false
   },
   "outputs": [
    {
     "data": {
      "text/html": [
       "<div>\n",
       "<style scoped>\n",
       "    .dataframe tbody tr th:only-of-type {\n",
       "        vertical-align: middle;\n",
       "    }\n",
       "\n",
       "    .dataframe tbody tr th {\n",
       "        vertical-align: top;\n",
       "    }\n",
       "\n",
       "    .dataframe thead th {\n",
       "        text-align: right;\n",
       "    }\n",
       "</style>\n",
       "<table border=\"1\" class=\"dataframe\">\n",
       "  <thead>\n",
       "    <tr style=\"text-align: right;\">\n",
       "      <th></th>\n",
       "      <th>自变量</th>\n",
       "      <th>被插函数值</th>\n",
       "      <th>n次插值函数值</th>\n",
       "      <th>n次截断误差</th>\n",
       "      <th>Hermite插值函数值</th>\n",
       "      <th>Hermite截断误差</th>\n",
       "    </tr>\n",
       "  </thead>\n",
       "  <tbody>\n",
       "    <tr>\n",
       "      <th>0</th>\n",
       "      <td>0.0</td>\n",
       "      <td>1.000000</td>\n",
       "      <td>0.995792</td>\n",
       "      <td>0.004208</td>\n",
       "      <td>0.999999</td>\n",
       "      <td>1.285281e-06</td>\n",
       "    </tr>\n",
       "    <tr>\n",
       "      <th>1</th>\n",
       "      <td>0.2</td>\n",
       "      <td>0.904837</td>\n",
       "      <td>0.908384</td>\n",
       "      <td>-0.003547</td>\n",
       "      <td>0.904836</td>\n",
       "      <td>9.495996e-07</td>\n",
       "    </tr>\n",
       "    <tr>\n",
       "      <th>2</th>\n",
       "      <td>0.4</td>\n",
       "      <td>0.818731</td>\n",
       "      <td>0.826459</td>\n",
       "      <td>-0.007728</td>\n",
       "      <td>0.818726</td>\n",
       "      <td>4.685281e-06</td>\n",
       "    </tr>\n",
       "    <tr>\n",
       "      <th>3</th>\n",
       "      <td>0.6</td>\n",
       "      <td>0.740818</td>\n",
       "      <td>0.750017</td>\n",
       "      <td>-0.009199</td>\n",
       "      <td>0.740811</td>\n",
       "      <td>6.893240e-06</td>\n",
       "    </tr>\n",
       "    <tr>\n",
       "      <th>4</th>\n",
       "      <td>0.8</td>\n",
       "      <td>0.670320</td>\n",
       "      <td>0.679057</td>\n",
       "      <td>-0.008737</td>\n",
       "      <td>0.670314</td>\n",
       "      <td>6.454732e-06</td>\n",
       "    </tr>\n",
       "    <tr>\n",
       "      <th>5</th>\n",
       "      <td>1.0</td>\n",
       "      <td>0.606531</td>\n",
       "      <td>0.613580</td>\n",
       "      <td>-0.007050</td>\n",
       "      <td>0.606526</td>\n",
       "      <td>4.358867e-06</td>\n",
       "    </tr>\n",
       "    <tr>\n",
       "      <th>6</th>\n",
       "      <td>1.2</td>\n",
       "      <td>0.548812</td>\n",
       "      <td>0.553586</td>\n",
       "      <td>-0.004775</td>\n",
       "      <td>0.548810</td>\n",
       "      <td>2.072812e-06</td>\n",
       "    </tr>\n",
       "    <tr>\n",
       "      <th>7</th>\n",
       "      <td>1.4</td>\n",
       "      <td>0.496585</td>\n",
       "      <td>0.499075</td>\n",
       "      <td>-0.002490</td>\n",
       "      <td>0.496585</td>\n",
       "      <td>5.839783e-07</td>\n",
       "    </tr>\n",
       "    <tr>\n",
       "      <th>8</th>\n",
       "      <td>1.6</td>\n",
       "      <td>0.449329</td>\n",
       "      <td>0.450047</td>\n",
       "      <td>-0.000718</td>\n",
       "      <td>0.449329</td>\n",
       "      <td>5.026297e-08</td>\n",
       "    </tr>\n",
       "    <tr>\n",
       "      <th>9</th>\n",
       "      <td>1.8</td>\n",
       "      <td>0.406570</td>\n",
       "      <td>0.406501</td>\n",
       "      <td>0.000069</td>\n",
       "      <td>0.406570</td>\n",
       "      <td>4.756614e-10</td>\n",
       "    </tr>\n",
       "    <tr>\n",
       "      <th>10</th>\n",
       "      <td>2.0</td>\n",
       "      <td>0.367879</td>\n",
       "      <td>0.368438</td>\n",
       "      <td>-0.000559</td>\n",
       "      <td>0.367879</td>\n",
       "      <td>3.259254e-08</td>\n",
       "    </tr>\n",
       "  </tbody>\n",
       "</table>\n",
       "</div>"
      ],
      "text/plain": [
       "    自变量     被插函数值   n次插值函数值    n次截断误差  Hermite插值函数值   Hermite截断误差\n",
       "0   0.0  1.000000  0.995792  0.004208      0.999999  1.285281e-06\n",
       "1   0.2  0.904837  0.908384 -0.003547      0.904836  9.495996e-07\n",
       "2   0.4  0.818731  0.826459 -0.007728      0.818726  4.685281e-06\n",
       "3   0.6  0.740818  0.750017 -0.009199      0.740811  6.893240e-06\n",
       "4   0.8  0.670320  0.679057 -0.008737      0.670314  6.454732e-06\n",
       "5   1.0  0.606531  0.613580 -0.007050      0.606526  4.358867e-06\n",
       "6   1.2  0.548812  0.553586 -0.004775      0.548810  2.072812e-06\n",
       "7   1.4  0.496585  0.499075 -0.002490      0.496585  5.839783e-07\n",
       "8   1.6  0.449329  0.450047 -0.000718      0.449329  5.026297e-08\n",
       "9   1.8  0.406570  0.406501  0.000069      0.406570  4.756614e-10\n",
       "10  2.0  0.367879  0.368438 -0.000559      0.367879  3.259254e-08"
      ]
     },
     "metadata": {},
     "output_type": "display_data"
    },
    {
     "data": {
      "image/png": "[encoded data removed]",
      "text/plain": [
       "<Figure size 864x648 with 1 Axes>"
      ]
     },
     "metadata": {},
     "output_type": "display_data"
    }
   ],
   "source": [
    "# 运行第一题结果\n",
    "第一题 = 插值逼近(3)"
   ]
  },
  {
   "cell_type": "code",
   "execution_count": 7,
   "metadata": {},
   "outputs": [
    {
     "data": {
      "text/latex": [
       "$x \\mapsto \\text{0.995792159172493} - \\text{0.45074650178858217}\\,x + \\text{0.06853478181663801}\\,x^{2}$"
      ],
      "text/plain": [
       "Polynomial([ 0.99579216, -0.4507465 ,  0.06853478], domain=[-1,  1], window=[-1,  1])"
      ]
     },
     "metadata": {},
     "output_type": "display_data"
    }
   ],
   "source": [
    "# 算法一（待定系数法）所得插值多项式\n",
    "display(第一题[0])"
   ]
  },
  {
   "cell_type": "code",
   "execution_count": 8,
   "metadata": {},
   "outputs": [
    {
     "data": {
      "text/latex": [
       "$x \\mapsto \\text{0.995792159172493} - \\text{0.4507465017885819}\\,x + \\text{0.06853478181663791}\\,x^{2}$"
      ],
      "text/plain": [
       "Polynomial([ 0.99579216, -0.4507465 ,  0.06853478], domain=[-1.,  1.], window=[-1.,  1.])"
      ]
     },
     "metadata": {},
     "output_type": "display_data"
    }
   ],
   "source": [
    "# 算法二（Lagrange插值法）所得插值多项式\n",
    "display(第一题[1])"
   ]
  },
  {
   "cell_type": "code",
   "execution_count": 9,
   "metadata": {},
   "outputs": [
    {
     "data": {
      "text/latex": [
       "$x \\mapsto \\text{0.9957921591724928} - \\text{0.45074650178858183}\\,x + \\text{0.0685347818166379}\\,x^{2}$"
      ],
      "text/plain": [
       "Polynomial([ 0.99579216, -0.4507465 ,  0.06853478], domain=[-1.,  1.], window=[-1.,  1.])"
      ]
     },
     "metadata": {},
     "output_type": "display_data"
    }
   ],
   "source": [
    "# 算法三（逐次线性插值法）所得插值多项式\n",
    "display(第一题[2])"
   ]
  },
  {
   "cell_type": "code",
   "execution_count": 10,
   "metadata": {},
   "outputs": [
    {
     "data": {
      "text/latex": [
       "$x \\mapsto \\text{0.9957921591724928} - \\text{0.45074650178858183}\\,x + \\text{0.0685347818166379}\\,x^{2}$"
      ],
      "text/plain": [
       "Polynomial([ 0.99579216, -0.4507465 ,  0.06853478], domain=[-1.,  1.], window=[-1.,  1.])"
      ]
     },
     "metadata": {},
     "output_type": "display_data"
    }
   ],
   "source": [
    "# 算法四（Newton插值法）所得插值多项式\n",
    "display(第一题[3])"
   ]
  },
  {
   "cell_type": "code",
   "execution_count": 11,
   "metadata": {
    "scrolled": false
   },
   "outputs": [
    {
     "data": {
      "text/latex": [
       "$x \\mapsto \\text{0.9999987147188163} - \\text{0.4999701645109005}\\,x + \\text{0.12479532499549562}\\,x^{2} - \\text{0.020458018775744158}\\,x^{3} + \\text{0.002301896767068712}\\,x^{4} - \\text{0.00014145234897627867}\\,x^{5}$"
      ],
      "text/plain": [
       "Polynomial([ 9.99998715e-01, -4.99970165e-01,  1.24795325e-01, -2.04580188e-02,\n",
       "        2.30189677e-03, -1.41452349e-04], domain=[-1.,  1.], window=[-1.,  1.])"
      ]
     },
     "metadata": {},
     "output_type": "display_data"
    }
   ],
   "source": [
    "# 算法五（Hermite插值法）所得插值多项式\n",
    "display(第一题[4])"
   ]
  },
  {
   "cell_type": "markdown",
   "metadata": {},
   "source": [
    "# 第二题"
   ]
  },
  {
   "cell_type": "code",
   "execution_count": 12,
   "metadata": {
    "scrolled": false
   },
   "outputs": [
    {
     "data": {
      "text/html": [
       "<div>\n",
       "<style scoped>\n",
       "    .dataframe tbody tr th:only-of-type {\n",
       "        vertical-align: middle;\n",
       "    }\n",
       "\n",
       "    .dataframe tbody tr th {\n",
       "        vertical-align: top;\n",
       "    }\n",
       "\n",
       "    .dataframe thead th {\n",
       "        text-align: right;\n",
       "    }\n",
       "</style>\n",
       "<table border=\"1\" class=\"dataframe\">\n",
       "  <thead>\n",
       "    <tr style=\"text-align: right;\">\n",
       "      <th></th>\n",
       "      <th>自变量</th>\n",
       "      <th>被插函数值</th>\n",
       "      <th>n次插值函数值</th>\n",
       "      <th>n次截断误差</th>\n",
       "      <th>Hermite插值函数值</th>\n",
       "      <th>Hermite截断误差</th>\n",
       "    </tr>\n",
       "  </thead>\n",
       "  <tbody>\n",
       "    <tr>\n",
       "      <th>0</th>\n",
       "      <td>0.0</td>\n",
       "      <td>1.000000</td>\n",
       "      <td>0.996333</td>\n",
       "      <td>3.666672e-03</td>\n",
       "      <td>0.999998</td>\n",
       "      <td>2.142071e-06</td>\n",
       "    </tr>\n",
       "    <tr>\n",
       "      <th>1</th>\n",
       "      <td>0.2</td>\n",
       "      <td>0.904837</td>\n",
       "      <td>0.903370</td>\n",
       "      <td>1.467616e-03</td>\n",
       "      <td>0.904837</td>\n",
       "      <td>3.988962e-07</td>\n",
       "    </tr>\n",
       "    <tr>\n",
       "      <th>2</th>\n",
       "      <td>0.4</td>\n",
       "      <td>0.818731</td>\n",
       "      <td>0.818431</td>\n",
       "      <td>2.996254e-04</td>\n",
       "      <td>0.818731</td>\n",
       "      <td>1.978452e-08</td>\n",
       "    </tr>\n",
       "    <tr>\n",
       "      <th>3</th>\n",
       "      <td>0.6</td>\n",
       "      <td>0.740818</td>\n",
       "      <td>0.741017</td>\n",
       "      <td>-1.992389e-04</td>\n",
       "      <td>0.740818</td>\n",
       "      <td>1.086958e-08</td>\n",
       "    </tr>\n",
       "    <tr>\n",
       "      <th>4</th>\n",
       "      <td>0.8</td>\n",
       "      <td>0.670320</td>\n",
       "      <td>0.670629</td>\n",
       "      <td>-3.089062e-04</td>\n",
       "      <td>0.670320</td>\n",
       "      <td>3.253116e-08</td>\n",
       "    </tr>\n",
       "    <tr>\n",
       "      <th>5</th>\n",
       "      <td>1.0</td>\n",
       "      <td>0.606531</td>\n",
       "      <td>0.606766</td>\n",
       "      <td>-2.351004e-04</td>\n",
       "      <td>0.606531</td>\n",
       "      <td>2.595761e-08</td>\n",
       "    </tr>\n",
       "    <tr>\n",
       "      <th>6</th>\n",
       "      <td>1.2</td>\n",
       "      <td>0.548812</td>\n",
       "      <td>0.548928</td>\n",
       "      <td>-1.164017e-04</td>\n",
       "      <td>0.548812</td>\n",
       "      <td>1.188609e-08</td>\n",
       "    </tr>\n",
       "    <tr>\n",
       "      <th>7</th>\n",
       "      <td>1.4</td>\n",
       "      <td>0.496585</td>\n",
       "      <td>0.496616</td>\n",
       "      <td>-3.063599e-05</td>\n",
       "      <td>0.496585</td>\n",
       "      <td>6.961431e-09</td>\n",
       "    </tr>\n",
       "    <tr>\n",
       "      <th>8</th>\n",
       "      <td>1.6</td>\n",
       "      <td>0.449329</td>\n",
       "      <td>0.449330</td>\n",
       "      <td>-6.564945e-07</td>\n",
       "      <td>0.449329</td>\n",
       "      <td>9.879277e-09</td>\n",
       "    </tr>\n",
       "    <tr>\n",
       "      <th>9</th>\n",
       "      <td>1.8</td>\n",
       "      <td>0.406570</td>\n",
       "      <td>0.406569</td>\n",
       "      <td>4.249323e-07</td>\n",
       "      <td>0.406570</td>\n",
       "      <td>1.556515e-08</td>\n",
       "    </tr>\n",
       "    <tr>\n",
       "      <th>10</th>\n",
       "      <td>2.0</td>\n",
       "      <td>0.367879</td>\n",
       "      <td>0.367835</td>\n",
       "      <td>4.450428e-05</td>\n",
       "      <td>0.367879</td>\n",
       "      <td>2.114733e-08</td>\n",
       "    </tr>\n",
       "  </tbody>\n",
       "</table>\n",
       "</div>"
      ],
      "text/plain": [
       "    自变量     被插函数值   n次插值函数值        n次截断误差  Hermite插值函数值   Hermite截断误差\n",
       "0   0.0  1.000000  0.996333  3.666672e-03      0.999998  2.142071e-06\n",
       "1   0.2  0.904837  0.903370  1.467616e-03      0.904837  3.988962e-07\n",
       "2   0.4  0.818731  0.818431  2.996254e-04      0.818731  1.978452e-08\n",
       "3   0.6  0.740818  0.741017 -1.992389e-04      0.740818  1.086958e-08\n",
       "4   0.8  0.670320  0.670629 -3.089062e-04      0.670320  3.253116e-08\n",
       "5   1.0  0.606531  0.606766 -2.351004e-04      0.606531  2.595761e-08\n",
       "6   1.2  0.548812  0.548928 -1.164017e-04      0.548812  1.188609e-08\n",
       "7   1.4  0.496585  0.496616 -3.063599e-05      0.496585  6.961431e-09\n",
       "8   1.6  0.449329  0.449330 -6.564945e-07      0.449329  9.879277e-09\n",
       "9   1.8  0.406570  0.406569  4.249323e-07      0.406570  1.556515e-08\n",
       "10  2.0  0.367879  0.367835  4.450428e-05      0.367879  2.114733e-08"
      ]
     },
     "metadata": {},
     "output_type": "display_data"
    },
    {
     "data": {
      "image/png": "[encoded data removed]",
      "text/plain": [
       "<Figure size 864x648 with 1 Axes>"
      ]
     },
     "metadata": {},
     "output_type": "display_data"
    }
   ],
   "source": [
    "# 运行第二题结果\n",
    "第二题 = 插值逼近(4)"
   ]
  },
  {
   "cell_type": "code",
   "execution_count": 13,
   "metadata": {},
   "outputs": [
    {
     "data": {
      "text/latex": [
       "$x \\mapsto \\text{0.9963333279317118} - \\text{0.48571283489416367}\\,x + \\text{0.10655871443403164}\\,x^{2} - \\text{0.010413447373152395}\\,x^{3}$"
      ],
      "text/plain": [
       "Polynomial([ 0.99633333, -0.48571283,  0.10655871, -0.01041345], domain=[-1,  1], window=[-1,  1])"
      ]
     },
     "metadata": {},
     "output_type": "display_data"
    }
   ],
   "source": [
    "# 算法一（待定系数法）所得插值多项式\n",
    "display(第二题[0])"
   ]
  },
  {
   "cell_type": "code",
   "execution_count": 14,
   "metadata": {},
   "outputs": [
    {
     "data": {
      "text/latex": [
       "$x \\mapsto \\text{0.9963333279317084} - \\text{0.485712834894116}\\,x + \\text{0.10655871443395881}\\,x^{2} - \\text{0.010413447373160523}\\,x^{3}$"
      ],
      "text/plain": [
       "Polynomial([ 0.99633333, -0.48571283,  0.10655871, -0.01041345], domain=[-1.,  1.], window=[-1.,  1.])"
      ]
     },
     "metadata": {},
     "output_type": "display_data"
    }
   ],
   "source": [
    "# 算法二（Lagrange插值法）所得插值多项式\n",
    "display(第二题[1])"
   ]
  },
  {
   "cell_type": "code",
   "execution_count": 15,
   "metadata": {},
   "outputs": [
    {
     "data": {
      "text/latex": [
       "$x \\mapsto \\text{0.996333327931734} - \\text{0.48571283489418515}\\,x + \\text{0.106558714434034}\\,x^{2} - \\text{0.010413447373150886}\\,x^{3}$"
      ],
      "text/plain": [
       "Polynomial([ 0.99633333, -0.48571283,  0.10655871, -0.01041345], domain=[-1.,  1.], window=[-1.,  1.])"
      ]
     },
     "metadata": {},
     "output_type": "display_data"
    }
   ],
   "source": [
    "# 算法三（逐次线性插值法）所得插值多项式\n",
    "display(第二题[2])"
   ]
  },
  {
   "cell_type": "code",
   "execution_count": 16,
   "metadata": {},
   "outputs": [
    {
     "data": {
      "text/latex": [
       "$x \\mapsto \\text{0.9963333279317096} - \\text{0.4857128348941565}\\,x + \\text{0.10655871443402565}\\,x^{2} - \\text{0.010413447373150886}\\,x^{3}$"
      ],
      "text/plain": [
       "Polynomial([ 0.99633333, -0.48571283,  0.10655871, -0.01041345], domain=[-1.,  1.], window=[-1.,  1.])"
      ]
     },
     "metadata": {},
     "output_type": "display_data"
    }
   ],
   "source": [
    "# 算法四（Newton插值法）所得插值多项式\n",
    "display(第二题[3])"
   ]
  },
  {
   "cell_type": "code",
   "execution_count": 17,
   "metadata": {
    "scrolled": false
   },
   "outputs": [
    {
     "data": {
      "text/latex": [
       "$x \\mapsto \\text{0.9999978579289746} - \\text{0.4999848392326385}\\,x + \\text{0.1249569640494883}\\,x^{2} - \\text{0.020769341848790646}\\,x^{3} + \\text{0.0025492138229310513}\\,x^{4} - \\text{0.00023240083828568459}\\,x^{5} + \\text{1.34296715259552e-05}\\,x^{6} - \\text{2.497981768101454e-07}\\,x^{7}$"
      ],
      "text/plain": [
       "Polynomial([ 9.99997858e-01, -4.99984839e-01,  1.24956964e-01, -2.07693418e-02,\n",
       "        2.54921382e-03, -2.32400838e-04,  1.34296715e-05, -2.49798177e-07], domain=[-1.,  1.], window=[-1.,  1.])"
      ]
     },
     "metadata": {},
     "output_type": "display_data"
    }
   ],
   "source": [
    "# 算法五（Hermite插值法）所得插值多项式\n",
    "display(第二题[4])"
   ]
  }
 ],
 "metadata": {
  "kernelspec": {
   "display_name": "Python 3",
   "language": "python",
   "name": "python3"
  },
  "language_info": {
   "codemirror_mode": {
    "name": "ipython",
    "version": 3
   },
   "file_extension": ".py",
   "mimetype": "text/x-python",
   "name": "python",
   "nbconvert_exporter": "python",
   "pygments_lexer": "ipython3",
   "version": "3.7.3"
  }
 },
 "nbformat": 4,
 "nbformat_minor": 2
}
