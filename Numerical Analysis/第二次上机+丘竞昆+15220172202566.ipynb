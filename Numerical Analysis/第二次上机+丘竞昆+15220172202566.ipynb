{
 "cells": [
  {
   "cell_type": "markdown",
   "metadata": {},
   "source": [
    "# 基础设置"
   ]
  },
  {
   "cell_type": "code",
   "execution_count": 1,
   "metadata": {},
   "outputs": [],
   "source": [
    "# 调用所需程序包\n",
    "import matplotlib.pyplot as plt\n",
    "import numpy as np\n",
    "import pandas as pd\n",
    "import scipy as sp\n",
    "import seaborn\n",
    "from numpy.polynomial import Polynomial"
   ]
  },
  {
   "cell_type": "code",
   "execution_count": 2,
   "metadata": {},
   "outputs": [],
   "source": [
    "# 设置绘图环境\n",
    "seaborn.set()\n",
    "plt.rcParams['font.sans-serif'] = ['SimHei']\n",
    "plt.rcParams['axes.unicode_minus'] = False"
   ]
  },
  {
   "cell_type": "code",
   "execution_count": 3,
   "metadata": {},
   "outputs": [],
   "source": [
    "# 设置被插函数\n",
    "f = lambda x: np.exp(-x / 4)"
   ]
  },
  {
   "cell_type": "code",
   "execution_count": 4,
   "metadata": {},
   "outputs": [],
   "source": [
    "# 构造给定区间内的三次样条插值函数\n",
    "def sample_bar(x, y, m, h, I):\n",
    "    s = Polynomial(0)\n",
    "    temp1 = Polynomial([x[I+1], -1])\n",
    "    temp0 = Polynomial([-x[I], 1])\n",
    "    s += (3 * temp1 ** 2 / h[I] ** 2 - 2 * temp1 ** 3 / h[I] ** 3) * y[I]\n",
    "    s += (3 * temp0 ** 2 / h[I] ** 2 - 2 * temp0 ** 3 / h[I] ** 3) * y[I+1]\n",
    "    s += (temp1 ** 2 / h[I] - temp1 ** 3 / h[I] ** 2) * m[I]\n",
    "    s -= (temp0 ** 2 / h[I] - temp0 ** 3 / h[I] ** 2) * m[I+1]\n",
    "    return s"
   ]
  },
  {
   "cell_type": "markdown",
   "metadata": {},
   "source": [
    "# 计算$x_i$,$y_i$,$h_i$,$\\lambda_i$以及$\\mu_i$"
   ]
  },
  {
   "cell_type": "code",
   "execution_count": 5,
   "metadata": {},
   "outputs": [],
   "source": [
    "# 设置插值节点\n",
    "x = np.array(range(6)) * 4\n",
    "x = x / 10\n",
    "n = x.size - 1\n",
    "y = f(x)\n",
    "m_first = sp.misc.derivative(f, x[0], 1e-6)\n",
    "m_last = sp.misc.derivative(f, x[-1], 1e-6)\n",
    "M_first = sp.misc.derivative(f, x[0], 1e-6, n=2)\n",
    "M_last = sp.misc.derivative(f, x[-1], 1e-6, n=2)\n",
    "\n",
    "# 设置截断误差计算节点\n",
    "xx = np.arange(0.2, 2.0, 0.2)\n",
    "yy = f(xx)\n",
    "\n",
    "# x[1:] -> xi\n",
    "# x[:-1] -> xi-1\n",
    "h = x[1:] - x[:-1]\n",
    "# h[1:] -> hi\n",
    "# h[:-1] -> hi-1\n",
    "lambda_ = h[:-1] / (h[:-1] + h[1:])\n",
    "# y[1:-1] -> yi\n",
    "# y[:-2] -> yi-1\n",
    "# y[2:] -> yi+1\n",
    "mu = 3 * ((1 - lambda_) / h[:-1] * (y[1:-1] - y[:-2]) +\n",
    "          lambda_ / h[1:] * (y[2:] - y[1:-1]))"
   ]
  },
  {
   "cell_type": "markdown",
   "metadata": {},
   "source": [
    "# 取$D_1$型为三次样条的边界条件"
   ]
  },
  {
   "cell_type": "code",
   "execution_count": 6,
   "metadata": {},
   "outputs": [
    {
     "name": "stdout",
     "output_type": "stream",
     "text": [
      "for x in [0.0, 0.4]:\n"
     ]
    },
    {
     "data": {
      "text/latex": [
       "$x \\mapsto \\text{1.0} - \\text{0.2500000000349445}\\,x + \\text{0.031224568873656544}\\,x^{2} - \\text{0.002476765153889282}\\,x^{3}$"
      ],
      "text/plain": [
       "Polynomial([ 1.        , -0.25      ,  0.03122457, -0.00247677], domain=[-1.,  1.], window=[-1.,  1.])"
      ]
     },
     "metadata": {},
     "output_type": "display_data"
    },
    {
     "name": "stdout",
     "output_type": "stream",
     "text": [
      "for x in [0.4, 0.8]:\n"
     ]
    },
    {
     "data": {
      "text/latex": [
       "$x \\mapsto \\text{0.9999848672144168} - \\text{0.24988650414306735}\\,x + \\text{0.030940829143969673}\\,x^{2} - \\text{0.002240315379143487}\\,x^{3}$"
      ],
      "text/plain": [
       "Polynomial([ 0.99998487, -0.2498865 ,  0.03094083, -0.00224032], domain=[-1.,  1.], window=[-1.,  1.])"
      ]
     },
     "metadata": {},
     "output_type": "display_data"
    },
    {
     "name": "stdout",
     "output_type": "stream",
     "text": [
      "for x in [0.8, 1.2]:\n"
     ]
    },
    {
     "data": {
      "text/latex": [
       "$x \\mapsto \\text{0.9998758316398099} - \\text{0.24947762073829516}\\,x + \\text{0.030429724888016096}\\,x^{2} - \\text{0.002027355272486542}\\,x^{3}$"
      ],
      "text/plain": [
       "Polynomial([ 0.99987583, -0.24947762,  0.03042972, -0.00202736], domain=[-1.,  1.], window=[-1.,  1.])"
      ]
     },
     "metadata": {},
     "output_type": "display_data"
    },
    {
     "name": "stdout",
     "output_type": "stream",
     "text": [
      "for x in [1.2, 1.6]:\n"
     ]
    },
    {
     "data": {
      "text/latex": [
       "$x \\mapsto \\text{0.9995421370216344} - \\text{0.24864338419284593}\\,x + \\text{0.02973452776672847}\\,x^{2} - \\text{0.0018342449610380118}\\,x^{3}$"
      ],
      "text/plain": [
       "Polynomial([ 0.99954214, -0.24864338,  0.02973453, -0.00183424], domain=[-1.,  1.], window=[-1.,  1.])"
      ]
     },
     "metadata": {},
     "output_type": "display_data"
    },
    {
     "name": "stdout",
     "output_type": "stream",
     "text": [
      "for x in [1.6, 2.0]:\n"
     ]
    },
    {
     "data": {
      "text/latex": [
       "$x \\mapsto \\text{0.9988291963587557} - \\text{0.2473066204499581}\\,x + \\text{0.028899050427453332}\\,x^{2} - \\text{0.00166018718201133}\\,x^{3}$"
      ],
      "text/plain": [
       "Polynomial([ 0.9988292 , -0.24730662,  0.02889905, -0.00166019], domain=[-1.,  1.], window=[-1.,  1.])"
      ]
     },
     "metadata": {},
     "output_type": "display_data"
    },
    {
     "data": {
      "text/html": [
       "<div>\n",
       "<style scoped>\n",
       "    .dataframe tbody tr th:only-of-type {\n",
       "        vertical-align: middle;\n",
       "    }\n",
       "\n",
       "    .dataframe tbody tr th {\n",
       "        vertical-align: top;\n",
       "    }\n",
       "\n",
       "    .dataframe thead th {\n",
       "        text-align: right;\n",
       "    }\n",
       "</style>\n",
       "<table border=\"1\" class=\"dataframe\">\n",
       "  <thead>\n",
       "    <tr style=\"text-align: right;\">\n",
       "      <th></th>\n",
       "      <th>自变量</th>\n",
       "      <th>被插函数值</th>\n",
       "      <th>插值函数值</th>\n",
       "      <th>截断误差</th>\n",
       "    </tr>\n",
       "  </thead>\n",
       "  <tbody>\n",
       "    <tr>\n",
       "      <th>0</th>\n",
       "      <td>0.2</td>\n",
       "      <td>0.951229</td>\n",
       "      <td>0.951229</td>\n",
       "      <td>2.558740e-07</td>\n",
       "    </tr>\n",
       "    <tr>\n",
       "      <th>1</th>\n",
       "      <td>0.4</td>\n",
       "      <td>0.904837</td>\n",
       "      <td>0.904837</td>\n",
       "      <td>-3.330669e-16</td>\n",
       "    </tr>\n",
       "    <tr>\n",
       "      <th>2</th>\n",
       "      <td>0.6</td>\n",
       "      <td>0.860708</td>\n",
       "      <td>0.860708</td>\n",
       "      <td>2.213265e-07</td>\n",
       "    </tr>\n",
       "    <tr>\n",
       "      <th>3</th>\n",
       "      <td>0.8</td>\n",
       "      <td>0.818731</td>\n",
       "      <td>0.818731</td>\n",
       "      <td>-9.103829e-15</td>\n",
       "    </tr>\n",
       "    <tr>\n",
       "      <th>4</th>\n",
       "      <td>1.0</td>\n",
       "      <td>0.778801</td>\n",
       "      <td>0.778801</td>\n",
       "      <td>2.025544e-07</td>\n",
       "    </tr>\n",
       "    <tr>\n",
       "      <th>5</th>\n",
       "      <td>1.2</td>\n",
       "      <td>0.740818</td>\n",
       "      <td>0.740818</td>\n",
       "      <td>8.326673e-14</td>\n",
       "    </tr>\n",
       "    <tr>\n",
       "      <th>6</th>\n",
       "      <td>1.4</td>\n",
       "      <td>0.704688</td>\n",
       "      <td>0.704688</td>\n",
       "      <td>1.843174e-07</td>\n",
       "    </tr>\n",
       "    <tr>\n",
       "      <th>7</th>\n",
       "      <td>1.6</td>\n",
       "      <td>0.670320</td>\n",
       "      <td>0.670320</td>\n",
       "      <td>5.451195e-14</td>\n",
       "    </tr>\n",
       "    <tr>\n",
       "      <th>8</th>\n",
       "      <td>1.8</td>\n",
       "      <td>0.637628</td>\n",
       "      <td>0.637628</td>\n",
       "      <td>1.603335e-07</td>\n",
       "    </tr>\n",
       "  </tbody>\n",
       "</table>\n",
       "</div>"
      ],
      "text/plain": [
       "   自变量     被插函数值     插值函数值          截断误差\n",
       "0  0.2  0.951229  0.951229  2.558740e-07\n",
       "1  0.4  0.904837  0.904837 -3.330669e-16\n",
       "2  0.6  0.860708  0.860708  2.213265e-07\n",
       "3  0.8  0.818731  0.818731 -9.103829e-15\n",
       "4  1.0  0.778801  0.778801  2.025544e-07\n",
       "5  1.2  0.740818  0.740818  8.326673e-14\n",
       "6  1.4  0.704688  0.704688  1.843174e-07\n",
       "7  1.6  0.670320  0.670320  5.451195e-14\n",
       "8  1.8  0.637628  0.637628  1.603335e-07"
      ]
     },
     "metadata": {},
     "output_type": "display_data"
    },
    {
     "data": {
      "image/png": "[encoded data removed]",
      "text/plain": [
       "<Figure size 432x288 with 1 Axes>"
      ]
     },
     "metadata": {},
     "output_type": "display_data"
    }
   ],
   "source": [
    "D1 = np.ones(n-1) * 2\n",
    "D1 = np.diag(D1)\n",
    "for I in range(n-2):\n",
    "    D1[I, I+1] = lambda_[I]\n",
    "    D1[I+1, I] = 1 - lambda_[I+1]\n",
    "mu1 = mu.copy()\n",
    "mu1[0] -= (1-lambda_[0]) * m_first\n",
    "mu1[-1] -= (1-lambda_[-1]) * m_last\n",
    "m_D1 = np.linalg.solve(D1, mu1)\n",
    "m_D1 = np.hstack([m_first, m_D1, m_last])\n",
    "\n",
    "# 计算各分段的三次样条插值函数\n",
    "s1 = []\n",
    "for I in range(n):\n",
    "    print('for x in [{0}, {1}]:'.format(x[I], x[I+1]))\n",
    "    s1.append(sample_bar(x, y, m_D1, h, I))\n",
    "    display(s1[I])\n",
    "# 合并各分段三次样条插值函数\n",
    "s1_combined = lambda t:\\\n",
    "    sum([s1[I](t) * (t >= x[I]) * (t < x[I+1]) for I in range(n-1)]) +\\\n",
    "    s1[n-1](t) * (t >= x[n-1]) * (t <= x[n])\n",
    "\n",
    "# 计算截断误差\n",
    "df1 = {'自变量':xx, '被插函数值':yy,\n",
    "       '插值函数值':s1_combined(xx), '截断误差':yy - s1_combined(xx)}\n",
    "df1 = pd.DataFrame(df1)\n",
    "display(df1)\n",
    "\n",
    "# 绘制可视化结果\n",
    "xxx = np.arange(0, 2.05, 0.05)\n",
    "fig, ax = plt.subplots()\n",
    "ax.plot(x, y, 'r*', label='插值节点')\n",
    "ax.plot(xxx, f(xxx), 'b', label='原函数')\n",
    "ax.plot(xxx, s1_combined(xxx), 'g', label=r'$D_1$型三次样条插值多项式')\n",
    "ax.legend();"
   ]
  },
  {
   "cell_type": "markdown",
   "metadata": {},
   "source": [
    "可见原函数与三次样条插值多项式几乎完全重合"
   ]
  },
  {
   "cell_type": "markdown",
   "metadata": {},
   "source": [
    "# 取$D_2$型为三次样条的边界条件"
   ]
  },
  {
   "cell_type": "code",
   "execution_count": 7,
   "metadata": {
    "scrolled": false
   },
   "outputs": [
    {
     "name": "stdout",
     "output_type": "stream",
     "text": [
      "for x in [0.0, 0.4]:\n"
     ]
    },
    {
     "data": {
      "text/latex": [
       "$x \\mapsto \\text{1.0} - \\text{0.2499951767892743}\\,x + \\text{0.03130828929442231}\\,x^{2} - \\text{0.0027162114912422375}\\,x^{3}$"
      ],
      "text/plain": [
       "Polynomial([ 1.        , -0.24999518,  0.03130829, -0.00271621], domain=[-1.,  1.], window=[-1.,  1.])"
      ]
     },
     "metadata": {},
     "output_type": "display_data"
    },
    {
     "name": "stdout",
     "output_type": "stream",
     "text": [
      "for x in [0.4, 0.8]:\n"
     ]
    },
    {
     "data": {
      "text/latex": [
       "$x \\mapsto \\text{0.9999197103555181} - \\text{0.24939300445565782}\\,x + \\text{0.029802858460386883}\\,x^{2} - \\text{0.0014616857962062024}\\,x^{3}$"
      ],
      "text/plain": [
       "Polynomial([ 0.99991971, -0.249393  ,  0.02980286, -0.00146169], domain=[-1.,  1.], window=[-1.,  1.])"
      ]
     },
     "metadata": {},
     "output_type": "display_data"
    },
    {
     "name": "stdout",
     "output_type": "stream",
     "text": [
      "for x in [0.8, 1.2]:\n"
     ]
    },
    {
     "data": {
      "text/latex": [
       "$x \\mapsto \\text{1.001681369988505} - \\text{0.25599922807936215}\\,x + \\text{0.038060637990029456}\\,x^{2} - \\text{0.004902427266881171}\\,x^{3}$"
      ],
      "text/plain": [
       "Polynomial([ 1.00168137, -0.25599923,  0.03806064, -0.00490243], domain=[-1.,  1.], window=[-1.,  1.])"
      ]
     },
     "metadata": {},
     "output_type": "display_data"
    },
    {
     "name": "stdout",
     "output_type": "stream",
     "text": [
      "for x in [1.2, 1.6]:\n"
     ]
    },
    {
     "data": {
      "text/latex": [
       "$x \\mapsto \\text{0.9778525252580752} - \\text{0.19642711625327713}\\,x - \\text{0.011582788531788069}\\,x^{2} + \\text{0.008887413433603664}\\,x^{3}$"
      ],
      "text/plain": [
       "Polynomial([ 0.97785253, -0.19642712, -0.01158279,  0.00888741], domain=[-1.,  1.], window=[-1.,  1.])"
      ]
     },
     "metadata": {},
     "output_type": "display_data"
    },
    {
     "name": "stdout",
     "output_type": "stream",
     "text": [
      "for x in [1.6, 2.0]:\n"
     ]
    },
    {
     "data": {
      "text/latex": [
       "$x \\mapsto \\text{1.1849428536284137} - \\text{0.5847214819476712}\\,x + \\text{0.23110119002723728}\\,x^{2} - \\text{0.041671748766182626}\\,x^{3}$"
      ],
      "text/plain": [
       "Polynomial([ 1.18494285, -0.58472148,  0.23110119, -0.04167175], domain=[-1.,  1.], window=[-1.,  1.])"
      ]
     },
     "metadata": {},
     "output_type": "display_data"
    },
    {
     "data": {
      "text/html": [
       "<div>\n",
       "<style scoped>\n",
       "    .dataframe tbody tr th:only-of-type {\n",
       "        vertical-align: middle;\n",
       "    }\n",
       "\n",
       "    .dataframe tbody tr th {\n",
       "        vertical-align: top;\n",
       "    }\n",
       "\n",
       "    .dataframe thead th {\n",
       "        text-align: right;\n",
       "    }\n",
       "</style>\n",
       "<table border=\"1\" class=\"dataframe\">\n",
       "  <thead>\n",
       "    <tr style=\"text-align: right;\">\n",
       "      <th></th>\n",
       "      <th>自变量</th>\n",
       "      <th>被插函数值</th>\n",
       "      <th>插值函数值</th>\n",
       "      <th>截断误差</th>\n",
       "    </tr>\n",
       "  </thead>\n",
       "  <tbody>\n",
       "    <tr>\n",
       "      <th>0</th>\n",
       "      <td>0.2</td>\n",
       "      <td>0.951229</td>\n",
       "      <td>0.951232</td>\n",
       "      <td>-2.142021e-06</td>\n",
       "    </tr>\n",
       "    <tr>\n",
       "      <th>1</th>\n",
       "      <td>0.4</td>\n",
       "      <td>0.904837</td>\n",
       "      <td>0.904837</td>\n",
       "      <td>-1.110223e-16</td>\n",
       "    </tr>\n",
       "    <tr>\n",
       "      <th>2</th>\n",
       "      <td>0.6</td>\n",
       "      <td>0.860708</td>\n",
       "      <td>0.860697</td>\n",
       "      <td>1.076383e-05</td>\n",
       "    </tr>\n",
       "    <tr>\n",
       "      <th>3</th>\n",
       "      <td>0.8</td>\n",
       "      <td>0.818731</td>\n",
       "      <td>0.818731</td>\n",
       "      <td>-9.103829e-15</td>\n",
       "    </tr>\n",
       "    <tr>\n",
       "      <th>4</th>\n",
       "      <td>1.0</td>\n",
       "      <td>0.778801</td>\n",
       "      <td>0.778840</td>\n",
       "      <td>-3.956956e-05</td>\n",
       "    </tr>\n",
       "    <tr>\n",
       "      <th>5</th>\n",
       "      <td>1.2</td>\n",
       "      <td>0.740818</td>\n",
       "      <td>0.740818</td>\n",
       "      <td>8.293366e-14</td>\n",
       "    </tr>\n",
       "    <tr>\n",
       "      <th>6</th>\n",
       "      <td>1.4</td>\n",
       "      <td>0.704688</td>\n",
       "      <td>0.704539</td>\n",
       "      <td>1.487303e-04</td>\n",
       "    </tr>\n",
       "    <tr>\n",
       "      <th>7</th>\n",
       "      <td>1.6</td>\n",
       "      <td>0.670320</td>\n",
       "      <td>0.670320</td>\n",
       "      <td>5.606626e-14</td>\n",
       "    </tr>\n",
       "    <tr>\n",
       "      <th>8</th>\n",
       "      <td>1.8</td>\n",
       "      <td>0.637628</td>\n",
       "      <td>0.638182</td>\n",
       "      <td>-5.542514e-04</td>\n",
       "    </tr>\n",
       "  </tbody>\n",
       "</table>\n",
       "</div>"
      ],
      "text/plain": [
       "   自变量     被插函数值     插值函数值          截断误差\n",
       "0  0.2  0.951229  0.951232 -2.142021e-06\n",
       "1  0.4  0.904837  0.904837 -1.110223e-16\n",
       "2  0.6  0.860708  0.860697  1.076383e-05\n",
       "3  0.8  0.818731  0.818731 -9.103829e-15\n",
       "4  1.0  0.778801  0.778840 -3.956956e-05\n",
       "5  1.2  0.740818  0.740818  8.293366e-14\n",
       "6  1.4  0.704688  0.704539  1.487303e-04\n",
       "7  1.6  0.670320  0.670320  5.606626e-14\n",
       "8  1.8  0.637628  0.638182 -5.542514e-04"
      ]
     },
     "metadata": {},
     "output_type": "display_data"
    },
    {
     "data": {
      "image/png": "[encoded data removed]",
      "text/plain": [
       "<Figure size 432x288 with 1 Axes>"
      ]
     },
     "metadata": {},
     "output_type": "display_data"
    }
   ],
   "source": [
    "D2 = np.ones(n+1) * 2\n",
    "D2 = np.diag(D2)\n",
    "D2[0, 1] = 1\n",
    "D2[-1, -2] = 1\n",
    "for I in range(1, n):\n",
    "    D2[I, I+1] = lambda_[I-1]\n",
    "    D2[I, I-1] = 1 - lambda_[I-1]\n",
    "mu2_first = 3 * (y[1] - y[0]) / h[0] - h[0] / 2 * M_first\n",
    "mu2_last = 3 * (y[-1] - y[-2]) / h[-1] - h[-1] / 2 * M_last\n",
    "mu2 = np.hstack([mu2_first, mu, mu2_last])\n",
    "m_D2 = np.linalg.solve(D2, mu2)\n",
    "\n",
    "# 计算各分段的三次样条插值函数\n",
    "s2 = []\n",
    "for I in range(n):\n",
    "    print('for x in [{0}, {1}]:'.format(x[I], x[I+1]))\n",
    "    s2.append(sample_bar(x, y, m_D2, h, I))\n",
    "    display(s2[I])\n",
    "# 合并各分段三次样条插值函数\n",
    "s2_combined = lambda t:\\\n",
    "    sum([s2[I](t) * (t >= x[I]) * (t < x[I+1]) for I in range(n-1)]) +\\\n",
    "    s2[n-1](t) * (t >= x[n-1]) * (t <= x[n])\n",
    "\n",
    "# 计算截断误差\n",
    "df2 = {'自变量':xx, '被插函数值':yy,\n",
    "       '插值函数值':s2_combined(xx), '截断误差':yy - s2_combined(xx)}\n",
    "df2 = pd.DataFrame(df2)\n",
    "display(df2)\n",
    "\n",
    "# 绘制可视化结果\n",
    "xxx = np.arange(0, 2.05, 0.05)\n",
    "fig, ax = plt.subplots()\n",
    "ax.plot(x, y, 'r*', label='插值节点')\n",
    "ax.plot(xxx, f(xxx), 'b', label='原函数')\n",
    "ax.plot(xxx, s2_combined(xxx), 'g', label=r'$D_2$型三次样条插值多项式')\n",
    "ax.legend();"
   ]
  },
  {
   "cell_type": "markdown",
   "metadata": {},
   "source": [
    "可见原函数与三次样条插值多项式几乎完全重合"
   ]
  }
 ],
 "metadata": {
  "kernelspec": {
   "display_name": "Python 3",
   "language": "python",
   "name": "python3"
  },
  "language_info": {
   "codemirror_mode": {
    "name": "ipython",
    "version": 3
   },
   "file_extension": ".py",
   "mimetype": "text/x-python",
   "name": "python",
   "nbconvert_exporter": "python",
   "pygments_lexer": "ipython3",
   "version": "3.7.3"
  }
 },
 "nbformat": 4,
 "nbformat_minor": 2
}
