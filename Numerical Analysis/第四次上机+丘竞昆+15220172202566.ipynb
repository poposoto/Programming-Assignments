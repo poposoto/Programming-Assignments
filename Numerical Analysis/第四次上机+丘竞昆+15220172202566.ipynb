{
 "cells": [
  {
   "cell_type": "markdown",
   "metadata": {},
   "source": [
    "导入所需包"
   ]
  },
  {
   "cell_type": "code",
   "execution_count": 1,
   "metadata": {},
   "outputs": [],
   "source": [
    "import numpy as np"
   ]
  },
  {
   "cell_type": "markdown",
   "metadata": {},
   "source": [
    "实现Romberg求积法\n",
    "\n",
    "注意到在表4.2中，第$k$层的$T$的计算过程至多只会调用第$k-1$层的数据（某种意义上说，相当于具有马尔可夫性）\n",
    "\n",
    "因此，可以根据该“马尔科夫链”在一步转移过程中所需的空间大小进行设计，避免历史信息冗余造成的空间浪费\n",
    "\n",
    "在这里，为减小空间复杂度，仅采用一个线性表存储$T$的值，当然，作为代价，时间复杂度或许会有上升，但在这里感受并不明显\n",
    "\n",
    "现举例如下，其中“ [ ”表示线性表的表头：\n",
    "\n",
    "初始化时\n",
    "\n",
    "1)生成$T_{0,0}$时，线性表：[ $T_{0,0}$\n",
    "\n",
    "$k=1$时\n",
    "\n",
    "2)生成$T_{0,0}\\to T_{1,0}$时，线性表：[ $T_{0,0}$, $T_{1,0}$\n",
    "\n",
    "3)生成$(T_{0,0},T_{1,0})\\to T_{0,1}$时，线性表：[ $T_{0,1}$, $T_{1,0}$\n",
    "\n",
    "$k=2$时\n",
    "\n",
    "4)生成$T_{1,0}\\to T_{2,0}$时，线性表：[ $T_{0,1}$, $T_{1,0}$, $T_{2,0}$\n",
    "\n",
    "5)生成$(T_{1,0},T_{2,0})\\to T_{1,1}$时，线性表：[ $T_{0,1}$, $T_{1,1}$, $T_{2,0}$\n",
    "\n",
    "6)生成$(T_{0,1},T_{1,1})\\to T_{0,2}$时，线性表：[ $T_{0,2}$, $T_{1,1}$, $T_{2,0}$\n",
    "\n",
    "余下类似"
   ]
  },
  {
   "cell_type": "code",
   "execution_count": 2,
   "metadata": {},
   "outputs": [],
   "source": [
    "def romberg(integrand, LowerBound, UpperBound):\n",
    "    f, a, b = integrand, LowerBound, UpperBound\n",
    "    h = b - a\n",
    "    k = 1\n",
    "    T = []\n",
    "    epsilon = 1e-10\n",
    "    \n",
    "    T.append(h / 2 * (f(a) + f(b))) # 计算 T(0, 0)\n",
    "    while True:\n",
    "        T_old = T[0] # 记录 T(0, k-1)\n",
    "        I = np.arange(1, 2**(k-1) + 1)\n",
    "        T_delta = h * f(a + (I-1/2) * h).sum()\n",
    "        T.append((T[k - 1] + T_delta) / 2) # 计算 T(k, 0)\n",
    "        for m in range(1, k + 1):\n",
    "            T[k - m] = 4 ** m * T[k + 1 - m] - T[k - m]\n",
    "            T[k - m] = T[k - m] / (4 ** m - 1) # 计算 T(k-m, m)\n",
    "        if np.abs(T[0] - T_old) <= epsilon:\n",
    "            break\n",
    "        else:\n",
    "            k = k + 1\n",
    "            h = h / 2\n",
    "    \n",
    "    print('Romberg求积法: T(0, k) = {0}, k = {1}'.format(T[0], k))"
   ]
  },
  {
   "cell_type": "markdown",
   "metadata": {},
   "source": [
    "实现复化左矩形数值积分算法\n",
    "\n",
    "注意这里也使用了类似马尔科夫链的思想，只采用了$L_{new}$和$L_{old}$两个变量来存储近似积分数据"
   ]
  },
  {
   "cell_type": "code",
   "execution_count": 3,
   "metadata": {},
   "outputs": [],
   "source": [
    "def LeftRectangle(integrand, LowerBound, UpperBound):\n",
    "    f, a, b = integrand, LowerBound, UpperBound\n",
    "    h = b - a\n",
    "    n = 1\n",
    "    epsilon = 1e-8\n",
    "    \n",
    "    I = np.arange(n)\n",
    "    L_new = h * f(a + I * h).sum()\n",
    "    while True:\n",
    "        n = n + 1\n",
    "        L_old = L_new\n",
    "        h = (b - a) / n\n",
    "        I = np.arange(n)\n",
    "        L_new = h * f(a + I * h).sum()\n",
    "        if np.abs(L_new - L_old) <= epsilon:\n",
    "            break\n",
    "    n = n - 1\n",
    "    \n",
    "    print('复化左矩形公式: L(n + 1) = {0}, n = {1}'.format(L_new, n))"
   ]
  },
  {
   "cell_type": "markdown",
   "metadata": {},
   "source": [
    "实现复化右矩形数值积分算法"
   ]
  },
  {
   "cell_type": "code",
   "execution_count": 4,
   "metadata": {},
   "outputs": [],
   "source": [
    "def RightRectangle(integrand, LowerBound, UpperBound):\n",
    "    f, a, b = integrand, LowerBound, UpperBound\n",
    "    h = b - a\n",
    "    n = 1\n",
    "    epsilon = 1e-8\n",
    "    \n",
    "    I = np.arange(n)\n",
    "    R_new = h * f(a + (I+1) * h).sum()\n",
    "    while True:\n",
    "        n = n + 1\n",
    "        R_old = R_new\n",
    "        h = (b - a) / n\n",
    "        I = np.arange(n)\n",
    "        R_new = h * f(a + (I+1) * h).sum()\n",
    "        if np.abs(R_new - R_old) <= epsilon:\n",
    "            break\n",
    "    n = n - 1\n",
    "    \n",
    "    print('复化右矩形公式: L(n + 1) = {0}, n = {1}'.format(R_new, n))"
   ]
  },
  {
   "cell_type": "markdown",
   "metadata": {},
   "source": [
    "实现复化中矩形数值积分算法"
   ]
  },
  {
   "cell_type": "code",
   "execution_count": 5,
   "metadata": {},
   "outputs": [],
   "source": [
    "def MedianRectangle(integrand, LowerBound, UpperBound):\n",
    "    f, a, b = integrand, LowerBound, UpperBound\n",
    "    h = b - a\n",
    "    n = 1\n",
    "    epsilon = 1e-8\n",
    "    \n",
    "    I = np.arange(n)\n",
    "    M_new = h * f(a + (I+1/2) * h).sum()\n",
    "    while True:\n",
    "        n = n + 1\n",
    "        M_old = M_new\n",
    "        h = (b - a) / n\n",
    "        I = np.arange(n)\n",
    "        M_new = h * f(a + (I+1/2) * h).sum()\n",
    "        if np.abs(M_new - M_old) <= epsilon:\n",
    "            break\n",
    "    n = n - 1\n",
    "    \n",
    "    print('复化中矩形公式: L(n + 1) = {0}, n = {1}'.format(M_new, n))"
   ]
  },
  {
   "cell_type": "markdown",
   "metadata": {},
   "source": [
    "分别将题给三个被积函数及相应的积分区间代入上述算法"
   ]
  },
  {
   "cell_type": "code",
   "execution_count": 6,
   "metadata": {},
   "outputs": [
    {
     "name": "stdout",
     "output_type": "stream",
     "text": [
      "x -> sin(x) / x from 1 to 2\n",
      "Romberg求积法: T(0, k) = 0.6593299064355116, k = 4\n",
      "复化左矩形公式: L(n + 1) = 0.659373872926283, n = 4398\n",
      "复化右矩形公式: L(n + 1) = 0.6592859387886618, n = 4398\n",
      "复化中矩形公式: L(n + 1) = 0.6593304137267226, n = 104\n",
      "\n",
      "x -> 1 / log(x) ** 3 from 2 to 3\n",
      "Romberg求积法: T(0, k) = 1.4751144146938298, k = 7\n",
      "复化左矩形公式: L(n + 1) = 1.4752204357487875, n = 10604\n",
      "复化右矩形公式: L(n + 1) = 1.4750083922543666, n = 10603\n",
      "复化中矩形公式: L(n + 1) = 1.4751126069941638, n = 365\n",
      "\n",
      "x -> cos(x) from 0 to pi / 2\n",
      "Romberg求积法: T(0, k) = 1.0000000000000004, k = 5\n",
      "复化左矩形公式: L(n + 1) = 1.000088612768131, n = 8862\n",
      "复化右矩形公式: L(n + 1) = 0.9999113919945584, n = 8863\n",
      "复化中矩形公式: L(n + 1) = 1.0000013594509356, n = 274\n"
     ]
    }
   ],
   "source": [
    "if __name__ == '__main__':\n",
    "    print('x -> sin(x) / x from 1 to 2')\n",
    "    f1 = lambda x: np.sin(x) / x\n",
    "    romberg(f1, 1, 2)\n",
    "    LeftRectangle(f1, 1, 2)\n",
    "    RightRectangle(f1, 1, 2)\n",
    "    MedianRectangle(f1, 1, 2)\n",
    "    \n",
    "    print('\\nx -> 1 / log(x) ** 3 from 2 to 3')\n",
    "    f2 = lambda x: 1 / np.log(x) ** 3\n",
    "    romberg(f2, 2, 3)\n",
    "    LeftRectangle(f2, 2, 3)\n",
    "    RightRectangle(f2, 2, 3)\n",
    "    MedianRectangle(f2, 2, 3)\n",
    "    \n",
    "    print('\\nx -> cos(x) from 0 to pi / 2')\n",
    "    romberg(np.cos, 0, np.pi / 2)\n",
    "    LeftRectangle(np.cos, 0, np.pi / 2)\n",
    "    RightRectangle(np.cos, 0, np.pi / 2)\n",
    "    MedianRectangle(np.cos, 0, np.pi / 2)"
   ]
  },
  {
   "cell_type": "markdown",
   "metadata": {},
   "source": [
    "注意：Romberg求积法选用精度为$10^{-10}$，其余三个复化矩形公式为$10^{-8}$"
   ]
  }
 ],
 "metadata": {
  "kernelspec": {
   "display_name": "Python 3",
   "language": "python",
   "name": "python3"
  },
  "language_info": {
   "codemirror_mode": {
    "name": "ipython",
    "version": 3
   },
   "file_extension": ".py",
   "mimetype": "text/x-python",
   "name": "python",
   "nbconvert_exporter": "python",
   "pygments_lexer": "ipython3",
   "version": "3.7.3"
  }
 },
 "nbformat": 4,
 "nbformat_minor": 2
}
