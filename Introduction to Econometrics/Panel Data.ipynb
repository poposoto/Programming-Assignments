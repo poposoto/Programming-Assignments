{
 "cells": [
  {
   "cell_type": "markdown",
   "metadata": {},
   "source": [
    "# Panel Data with Unobserved Entity Effect"
   ]
  },
  {
   "cell_type": "markdown",
   "metadata": {},
   "source": [
    "$y_{it} = \\beta_1x_{it} + \\alpha_i + u_{it}$"
   ]
  },
  {
   "cell_type": "code",
   "execution_count": 1,
   "metadata": {},
   "outputs": [
    {
     "name": "stdout",
     "output_type": "stream",
     "text": [
      "                          PanelOLS Estimation Summary                           \n",
      "================================================================================\n",
      "Dep. Variable:       I(mrall * 10000)   R-squared:                        0.0407\n",
      "Estimator:                   PanelOLS   R-squared (Between):             -0.7126\n",
      "No. Observations:                 336   R-squared (Within):               0.0407\n",
      "Date:                Sat, Dec 07 2019   R-squared (Overall):             -0.6380\n",
      "Time:                        15:44:37   Log-likelihood                    107.97\n",
      "Cov. Estimator:                Robust                                           \n",
      "                                        F-statistic:                      12.190\n",
      "Entities:                          48   P-value                           0.0006\n",
      "Avg Obs:                       7.0000   Distribution:                   F(1,287)\n",
      "Min Obs:                       7.0000                                           \n",
      "Max Obs:                       7.0000   F-statistic (robust):             10.410\n",
      "                                        P-value                           0.0014\n",
      "Time periods:                       7   Distribution:                   F(1,287)\n",
      "Avg Obs:                       48.000                                           \n",
      "Min Obs:                       48.000                                           \n",
      "Max Obs:                       48.000                                           \n",
      "                                                                                \n",
      "                             Parameter Estimates                              \n",
      "==============================================================================\n",
      "            Parameter  Std. Err.     T-stat    P-value    Lower CI    Upper CI\n",
      "------------------------------------------------------------------------------\n",
      "Intercept      2.3771     0.1052     22.606     0.0000      2.1701      2.5840\n",
      "beertax       -0.6559     0.2033    -3.2265     0.0014     -1.0560     -0.2558\n",
      "==============================================================================\n",
      "\n",
      "F-test for Poolability: 52.179\n",
      "P-value: 0.0000\n",
      "Distribution: F(47,287)\n",
      "\n",
      "Included effects: Entity\n"
     ]
    }
   ],
   "source": [
    "import pandas as pd\n",
    "from linearmodels import PanelOLS\n",
    "data = pd.read_excel('https://github.com/poposoto/Programming-Assignments/blob/master/Introduction%20to%20Econometrics/fatality.xlsx?raw=true')\n",
    "data2 = data.set_index(['state', 'year'])\n",
    "mod = PanelOLS.from_formula('I(mrall * 10000) ~ 1 + beertax + EntityEffects',\n",
    "                             data=data2)\n",
    "res = mod.fit(cov_type='robust')\n",
    "print(res.summary)"
   ]
  },
  {
   "cell_type": "markdown",
   "metadata": {},
   "source": [
    "$y_{it} = \\beta_0 + \\beta_1x_{it} + \\gamma_2D2_i + \\gamma_3D3_i + \\cdots + \\gamma_nDn_i + u_{it}$"
   ]
  },
  {
   "cell_type": "code",
   "execution_count": 2,
   "metadata": {},
   "outputs": [
    {
     "name": "stdout",
     "output_type": "stream",
     "text": [
      "                            OLS Regression Results                            \n",
      "==============================================================================\n",
      "Dep. Variable:       I(mrall * 10000)   R-squared:                       0.905\n",
      "Model:                            OLS   Adj. R-squared:                  0.889\n",
      "Method:                 Least Squares   F-statistic:                     126.2\n",
      "Date:                Sat, 07 Dec 2019   Prob (F-statistic):          3.70e-166\n",
      "Time:                        15:44:37   Log-Likelihood:                 107.97\n",
      "No. Observations:                 336   AIC:                            -117.9\n",
      "Df Residuals:                     287   BIC:                             69.09\n",
      "Df Model:                          48                                         \n",
      "Covariance Type:                  HC1                                         \n",
      "==================================================================================\n",
      "                     coef    std err          t      P>|t|      [0.025      0.975]\n",
      "----------------------------------------------------------------------------------\n",
      "Intercept          3.4776      0.351      9.914      0.000       2.787       4.168\n",
      "C(state)[T.4]     -0.5677      0.295     -1.923      0.055      -1.149       0.013\n",
      "C(state)[T.5]     -0.6550      0.240     -2.726      0.007      -1.128      -0.182\n",
      "C(state)[T.6]     -1.5095      0.333     -4.539      0.000      -2.164      -0.855\n",
      "C(state)[T.8]     -1.4843      0.324     -4.582      0.000      -2.122      -0.847\n",
      "C(state)[T.9]     -1.8623      0.307     -6.067      0.000      -2.466      -1.258\n",
      "C(state)[T.10]    -1.3076      0.333     -3.928      0.000      -1.963      -0.652\n",
      "C(state)[T.12]    -0.2681      0.145     -1.855      0.065      -0.553       0.016\n",
      "C(state)[T.13]     0.5246      0.179      2.937      0.004       0.173       0.876\n",
      "C(state)[T.16]    -0.6690      0.282     -2.371      0.018      -1.224      -0.114\n",
      "C(state)[T.17]    -1.9616      0.319     -6.152      0.000      -2.589      -1.334\n",
      "C(state)[T.18]    -1.4615      0.298     -4.901      0.000      -2.048      -0.875\n",
      "C(state)[T.19]    -1.5439      0.291     -5.310      0.000      -2.116      -0.972\n",
      "C(state)[T.20]    -1.2232      0.273     -4.488      0.000      -1.760      -0.687\n",
      "C(state)[T.21]    -1.2175      0.316     -3.850      0.000      -1.840      -0.595\n",
      "C(state)[T.22]    -0.8471      0.224     -3.780      0.000      -1.288      -0.406\n",
      "C(state)[T.23]    -1.1079      0.222     -5.000      0.000      -1.544      -0.672\n",
      "C(state)[T.24]    -1.7064      0.312     -5.476      0.000      -2.320      -1.093\n",
      "C(state)[T.25]    -2.1097      0.301     -7.007      0.000      -2.702      -1.517\n",
      "C(state)[T.26]    -1.4845      0.259     -5.722      0.000      -1.995      -0.974\n",
      "C(state)[T.27]    -1.8972      0.289     -6.566      0.000      -2.466      -1.329\n",
      "C(state)[T.28]    -0.0291      0.164     -0.177      0.860      -0.352       0.294\n",
      "C(state)[T.29]    -1.2963      0.295     -4.389      0.000      -1.878      -0.715\n",
      "C(state)[T.30]    -0.3604      0.317     -1.138      0.256      -0.984       0.263\n",
      "C(state)[T.31]    -1.5222      0.277     -5.494      0.000      -2.068      -0.977\n",
      "C(state)[T.32]    -0.6008      0.319     -1.885      0.060      -1.228       0.027\n",
      "C(state)[T.33]    -1.2545      0.238     -5.267      0.000      -1.723      -0.786\n",
      "C(state)[T.34]    -2.1057      0.336     -6.264      0.000      -2.767      -1.444\n",
      "C(state)[T.35]     0.4264      0.279      1.530      0.127      -0.122       0.975\n",
      "C(state)[T.36]    -2.1867      0.326     -6.698      0.000      -2.829      -1.544\n",
      "C(state)[T.37]    -0.2905      0.129     -2.248      0.025      -0.545      -0.036\n",
      "C(state)[T.38]    -1.6234      0.310     -5.244      0.000      -2.233      -1.014\n",
      "C(state)[T.39]    -1.6744      0.276     -6.072      0.000      -2.217      -1.132\n",
      "C(state)[T.40]    -0.5451      0.234     -2.326      0.021      -1.006      -0.084\n",
      "C(state)[T.41]    -1.1680      0.317     -3.688      0.000      -1.791      -0.545\n",
      "C(state)[T.42]    -1.7675      0.302     -5.862      0.000      -2.361      -1.174\n",
      "C(state)[T.44]    -2.2651      0.325     -6.974      0.000      -2.904      -1.626\n",
      "C(state)[T.45]     0.5572      0.119      4.670      0.000       0.322       0.792\n",
      "C(state)[T.46]    -1.0037      0.249     -4.030      0.000      -1.494      -0.513\n",
      "C(state)[T.47]    -0.8757      0.296     -2.954      0.003      -1.459      -0.292\n",
      "C(state)[T.48]    -0.9175      0.285     -3.222      0.001      -1.478      -0.357\n",
      "C(state)[T.49]    -1.1640      0.212     -5.496      0.000      -1.581      -0.747\n",
      "C(state)[T.50]    -0.9660      0.234     -4.129      0.000      -1.427      -0.505\n",
      "C(state)[T.51]    -1.2902      0.222     -5.815      0.000      -1.727      -0.854\n",
      "C(state)[T.53]    -1.6595      0.309     -5.363      0.000      -2.269      -1.050\n",
      "C(state)[T.54]    -0.8968      0.270     -3.324      0.001      -1.428      -0.366\n",
      "C(state)[T.55]    -1.7593      0.321     -5.475      0.000      -2.392      -1.127\n",
      "C(state)[T.56]    -0.2285      0.375     -0.609      0.543      -0.967       0.510\n",
      "beertax           -0.6559      0.203     -3.226      0.001      -1.056      -0.256\n",
      "==============================================================================\n",
      "Omnibus:                       53.045   Durbin-Watson:                   1.517\n",
      "Prob(Omnibus):                  0.000   Jarque-Bera (JB):              219.863\n",
      "Skew:                           0.585   Prob(JB):                     1.81e-48\n",
      "Kurtosis:                       6.786   Cond. No.                         187.\n",
      "==============================================================================\n",
      "\n",
      "Warnings:\n",
      "[1] Standard Errors are heteroscedasticity robust (HC1)\n"
     ]
    }
   ],
   "source": [
    "import statsmodels.formula.api as smf\n",
    "data.index = range(data.shape[0])\n",
    "mod2 = smf.ols('I(mrall * 10000) ~ 1 + beertax + C(state)', data=data)\n",
    "res2 = mod2.fit().get_robustcov_results()\n",
    "print(res2.summary())"
   ]
  },
  {
   "cell_type": "markdown",
   "metadata": {},
   "source": [
    "$\\tilde{y}_{it} = \\beta_1\\tilde{x}_{it} + \\tilde{u}_{it}$\n",
    "\n",
    "where $\\tilde{z}_{it} = z_{it} - \\bar{z}_i$"
   ]
  },
  {
   "cell_type": "code",
   "execution_count": 3,
   "metadata": {},
   "outputs": [
    {
     "name": "stdout",
     "output_type": "stream",
     "text": [
      "                                 OLS Regression Results                                \n",
      "=======================================================================================\n",
      "Dep. Variable:     I(mralldm * 10000)   R-squared (uncentered):                   0.041\n",
      "Model:                            OLS   Adj. R-squared (uncentered):              0.038\n",
      "Method:                 Least Squares   F-statistic:                              12.15\n",
      "Date:                Sat, 07 Dec 2019   Prob (F-statistic):                    0.000556\n",
      "Time:                        15:44:38   Log-Likelihood:                          107.97\n",
      "No. Observations:                 336   AIC:                                     -213.9\n",
      "Df Residuals:                     335   BIC:                                     -210.1\n",
      "Df Model:                           1                                                  \n",
      "Covariance Type:                  HC1                                                  \n",
      "==============================================================================\n",
      "                 coef    std err          t      P>|t|      [0.025      0.975]\n",
      "------------------------------------------------------------------------------\n",
      "beertaxdm     -0.6559      0.188     -3.486      0.001      -1.026      -0.286\n",
      "==============================================================================\n",
      "Omnibus:                       53.045   Durbin-Watson:                   1.517\n",
      "Prob(Omnibus):                  0.000   Jarque-Bera (JB):              219.863\n",
      "Skew:                           0.585   Prob(JB):                     1.81e-48\n",
      "Kurtosis:                       6.786   Cond. No.                         1.00\n",
      "==============================================================================\n",
      "\n",
      "Warnings:\n",
      "[1] Standard Errors are heteroscedasticity robust (HC1)\n"
     ]
    }
   ],
   "source": [
    "import numpy as np\n",
    "def demean(s):\n",
    "    mean = []\n",
    "    for state in data.state.unique():\n",
    "        temp = data[data.state == state][s]\n",
    "        mean.append(temp.mean() * np.ones_like(temp))\n",
    "    data[s + 'i'] = np.hstack(mean)\n",
    "    data[s + 'dm'] = data[s] - data[s + 'i']\n",
    "demean('mrall')\n",
    "demean('beertax')\n",
    "mod3 = smf.ols('I(mralldm * 10000) ~ beertaxdm - 1', data=data)\n",
    "res3 = mod3.fit().get_robustcov_results()\n",
    "print(res3.summary())"
   ]
  },
  {
   "cell_type": "markdown",
   "metadata": {},
   "source": [
    "$\\Delta{y}_{it} = \\beta_1\\Delta{x}_{it} + \\Delta{u}_{it}$\n",
    "\n",
    "where $\\Delta{z}_{it} = z_{it} - z_{i,t-1}$"
   ]
  },
  {
   "cell_type": "code",
   "execution_count": 4,
   "metadata": {},
   "outputs": [
    {
     "name": "stdout",
     "output_type": "stream",
     "text": [
      "                                  OLS Regression Results                                 \n",
      "=========================================================================================\n",
      "Dep. Variable:     I(mralldiff * 10000)   R-squared (uncentered):                   0.000\n",
      "Model:                              OLS   Adj. R-squared (uncentered):             -0.003\n",
      "Method:                   Least Squares   F-statistic:                            0.01067\n",
      "Date:                  Sat, 07 Dec 2019   Prob (F-statistic):                       0.918\n",
      "Time:                          15:44:38   Log-Likelihood:                          58.721\n",
      "No. Observations:                   288   AIC:                                     -115.4\n",
      "Df Residuals:                       287   BIC:                                     -111.8\n",
      "Df Model:                             1                                                  \n",
      "Covariance Type:                    HC1                                                  \n",
      "===============================================================================\n",
      "                  coef    std err          t      P>|t|      [0.025      0.975]\n",
      "-------------------------------------------------------------------------------\n",
      "beertaxdiff     0.0288      0.279      0.103      0.918      -0.520       0.578\n",
      "==============================================================================\n",
      "Omnibus:                       16.255   Durbin-Watson:                   2.335\n",
      "Prob(Omnibus):                  0.000   Jarque-Bera (JB):               28.984\n",
      "Skew:                          -0.322   Prob(JB):                     5.08e-07\n",
      "Kurtosis:                       4.415   Cond. No.                         1.00\n",
      "==============================================================================\n",
      "\n",
      "Warnings:\n",
      "[1] Standard Errors are heteroscedasticity robust (HC1)\n"
     ]
    }
   ],
   "source": [
    "data['mralldiff'] = data.mrall.diff()\n",
    "data['beertaxdiff'] = data.beertax.diff()\n",
    "for K in range(data.shape[0]):\n",
    "    if data.loc[K, 'year'] == 1982:\n",
    "        data.loc[K, 'mralldiff'] = np.nan\n",
    "        data.loc[K, 'beertaxdiff'] = np.nan\n",
    "mod4 = smf.ols('I(mralldiff * 10000) ~ beertaxdiff - 1', data=data)\n",
    "res4 = mod4.fit().get_robustcov_results()\n",
    "print(res4.summary())"
   ]
  },
  {
   "cell_type": "markdown",
   "metadata": {},
   "source": [
    "# Panel Data with Unobserved Entity-Specific Time Trend"
   ]
  },
  {
   "cell_type": "markdown",
   "metadata": {},
   "source": [
    "$y_{it} = \\beta_1x_{it} + \\alpha_i + \\lambda_it + u_{it}$"
   ]
  },
  {
   "cell_type": "markdown",
   "metadata": {},
   "source": [
    "$y_{it} = \\beta_1x_{it} + \\alpha_1D1_i + \\cdots + \\alpha_nDn_i + \\lambda_1(D1_i\\times t) + \\cdots + \\lambda_n(Dn_i\\times t) + u_{it}$"
   ]
  },
  {
   "cell_type": "code",
   "execution_count": 5,
   "metadata": {
    "scrolled": false
   },
   "outputs": [
    {
     "name": "stdout",
     "output_type": "stream",
     "text": [
      "                            OLS Regression Results                            \n",
      "==============================================================================\n",
      "Dep. Variable:       I(mrall * 10000)   R-squared:                       0.956\n",
      "Model:                            OLS   Adj. R-squared:                  0.939\n",
      "Method:                 Least Squares   F-statistic:                       nan\n",
      "Date:                Sat, 07 Dec 2019   Prob (F-statistic):                nan\n",
      "Time:                        15:44:38   Log-Likelihood:                 237.79\n",
      "No. Observations:                 336   AIC:                            -281.6\n",
      "Df Residuals:                     239   BIC:                             88.69\n",
      "Df Model:                          96                                         \n",
      "Covariance Type:                  HC1                                         \n",
      "=================================================================================\n",
      "                    coef    std err          t      P>|t|      [0.025      0.975]\n",
      "---------------------------------------------------------------------------------\n",
      "C(state)[1]    -166.0843     46.592     -3.565      0.000    -257.868     -74.300\n",
      "C(state)[4]    -113.0337     74.174     -1.524      0.129    -259.153      33.085\n",
      "C(state)[5]    -107.9439     40.534     -2.663      0.008    -187.794     -28.093\n",
      "C(state)[6]     -34.8795     20.099     -1.735      0.084     -74.472       4.713\n",
      "C(state)[8]     180.9447     30.418      5.949      0.000     121.023     240.867\n",
      "C(state)[9]      37.1640     44.538      0.834      0.405     -50.573     124.901\n",
      "C(state)[10]   -150.6120     62.149     -2.423      0.016    -273.042     -28.182\n",
      "C(state)[12]     30.7515     26.526      1.159      0.247     -21.503      83.006\n",
      "C(state)[13]   -191.1265     41.443     -4.612      0.000    -272.766    -109.487\n",
      "C(state)[16]      1.1495     24.050      0.048      0.962     -46.228      48.527\n",
      "C(state)[17]    -50.3128     38.220     -1.316      0.189    -125.604      24.978\n",
      "C(state)[18]    -74.2760     22.354     -3.323      0.001    -118.312     -30.240\n",
      "C(state)[19]    -56.6534     56.587     -1.001      0.318    -168.126      54.819\n",
      "C(state)[20]    -16.0414     55.993     -0.286      0.775    -126.344      94.261\n",
      "C(state)[21]    -40.4143     44.034     -0.918      0.360    -127.159      46.331\n",
      "C(state)[22]    109.8065     71.219      1.542      0.124     -30.490     250.103\n",
      "C(state)[23]   -126.8171     72.062     -1.760      0.080    -268.774      15.140\n",
      "C(state)[24]   -102.2068     27.532     -3.712      0.000    -156.443     -47.971\n",
      "C(state)[25]    -38.8588     14.844     -2.618      0.009     -68.101      -9.617\n",
      "C(state)[26]   -121.1098     23.335     -5.190      0.000    -167.079     -75.141\n",
      "C(state)[27]      6.1171     25.473      0.240      0.810     -44.063      56.298\n",
      "C(state)[28]    -37.3915     42.146     -0.887      0.376    -120.416      45.633\n",
      "C(state)[29]   -128.6213     20.318     -6.330      0.000    -168.647     -88.595\n",
      "C(state)[30]    248.1655     81.112      3.060      0.002      88.381     407.950\n",
      "C(state)[31]    -21.6088     41.543     -0.520      0.603    -103.446      60.228\n",
      "C(state)[32]    158.4834     80.721      1.963      0.051      -0.533     317.499\n",
      "C(state)[33]    141.1092     40.312      3.500      0.001      61.697     220.521\n",
      "C(state)[34]     -7.9227     34.053     -0.233      0.816     -75.005      59.159\n",
      "C(state)[35]    232.4509     96.518      2.408      0.017      42.316     422.585\n",
      "C(state)[36]    -27.0418     21.482     -1.259      0.209     -69.360      15.276\n",
      "C(state)[37]   -159.5146     51.928     -3.072      0.002    -261.810     -57.220\n",
      "C(state)[38]    157.5059    105.842      1.488      0.138     -50.996     366.008\n",
      "C(state)[39]    -60.5194     11.524     -5.251      0.000     -83.221     -37.817\n",
      "C(state)[40]    408.5649    106.713      3.829      0.000     198.348     618.782\n",
      "C(state)[41]   -150.0706     17.030     -8.812      0.000    -183.618    -116.523\n",
      "C(state)[42]    -61.1002     24.278     -2.517      0.013    -108.926     -13.275\n",
      "C(state)[44]    -81.9312     37.963     -2.158      0.032    -156.717      -7.146\n",
      "C(state)[45]   -296.1063     82.887     -3.572      0.000    -459.389    -132.823\n",
      "C(state)[46]    101.4093     78.069      1.299      0.195     -52.382     255.201\n",
      "C(state)[47]   -141.3378     22.282     -6.343      0.000    -185.232     -97.443\n",
      "C(state)[48]    245.2883     43.471      5.643      0.000     159.654     330.923\n",
      "C(state)[49]     68.4838     32.298      2.120      0.035       4.859     132.109\n",
      "C(state)[50]   -110.5976     51.218     -2.159      0.032    -211.494      -9.701\n",
      "C(state)[51]    -75.5801     30.991     -2.439      0.015    -136.630     -14.530\n",
      "C(state)[53]      9.7196     22.297      0.436      0.663     -34.204      53.643\n",
      "C(state)[54]    -88.7338     36.542     -2.428      0.016    -160.718     -16.749\n",
      "C(state)[55]    -16.9784     19.726     -0.861      0.390     -55.838      21.881\n",
      "C(state)[56]    236.3489    148.592      1.591      0.113     -56.369     529.067\n",
      "I(D1 * year)      0.0846      0.023      3.606      0.000       0.038       0.131\n",
      "I(D4 * year)      0.0583      0.037      1.559      0.120      -0.015       0.132\n",
      "I(D5 * year)      0.0555      0.020      2.722      0.007       0.015       0.096\n",
      "I(D6 * year)      0.0185      0.010      1.829      0.069      -0.001       0.038\n",
      "I(D8 * year)     -0.0902      0.015     -5.886      0.000      -0.120      -0.060\n",
      "I(D9 * year)     -0.0180      0.022     -0.803      0.423      -0.062       0.026\n",
      "I(D10 * year)     0.0769      0.031      2.457      0.015       0.015       0.139\n",
      "I(D12 * year)    -0.0144      0.013     -1.080      0.281      -0.041       0.012\n",
      "I(D13 * year)     0.0971      0.021      4.715      0.000       0.057       0.138\n",
      "I(D16 * year)     0.0007      0.012      0.055      0.956      -0.023       0.024\n",
      "I(D17 * year)     0.0260      0.019      1.352      0.178      -0.012       0.064\n",
      "I(D18 * year)     0.0383      0.011      3.406      0.001       0.016       0.060\n",
      "I(D19 * year)     0.0293      0.029      1.029      0.305      -0.027       0.085\n",
      "I(D20 * year)     0.0090      0.028      0.320      0.749      -0.047       0.065\n",
      "I(D21 * year)     0.0214      0.022      0.965      0.335      -0.022       0.065\n",
      "I(D22 * year)    -0.0544      0.036     -1.516      0.131      -0.125       0.016\n",
      "I(D23 * year)     0.0647      0.036      1.784      0.076      -0.007       0.136\n",
      "I(D24 * year)     0.0523      0.014      3.768      0.000       0.025       0.080\n",
      "I(D25 * year)     0.0201      0.007      2.695      0.008       0.005       0.035\n",
      "I(D26 * year)     0.0618      0.012      5.268      0.000       0.039       0.085\n",
      "I(D27 * year)    -0.0024      0.013     -0.190      0.849      -0.028       0.023\n",
      "I(D28 * year)     0.0201      0.021      0.948      0.344      -0.022       0.062\n",
      "I(D29 * year)     0.0657      0.010      6.419      0.000       0.046       0.086\n",
      "I(D30 * year)    -0.1236      0.041     -3.026      0.003      -0.204      -0.043\n",
      "I(D31 * year)     0.0117      0.021      0.557      0.578      -0.030       0.053\n",
      "I(D32 * year)    -0.0785      0.041     -1.930      0.055      -0.159       0.002\n",
      "I(D33 * year)    -0.0703      0.020     -3.461      0.001      -0.110      -0.030\n",
      "I(D34 * year)     0.0046      0.017      0.271      0.787      -0.029       0.038\n",
      "I(D35 * year)    -0.1153      0.049     -2.372      0.018      -0.211      -0.020\n",
      "I(D36 * year)     0.0142      0.011      1.313      0.190      -0.007       0.036\n",
      "I(D37 * year)     0.0813      0.026      3.117      0.002       0.030       0.133\n",
      "I(D38 * year)    -0.0786      0.053     -1.475      0.142      -0.184       0.026\n",
      "I(D39 * year)     0.0312      0.006      5.398      0.000       0.020       0.043\n",
      "I(D40 * year)    -0.2048      0.054     -3.810      0.000      -0.311      -0.099\n",
      "I(D41 * year)     0.0767      0.009      8.938      0.000       0.060       0.094\n",
      "I(D42 * year)     0.0315      0.012      2.579      0.011       0.007       0.056\n",
      "I(D44 * year)     0.0418      0.019      2.188      0.030       0.004       0.079\n",
      "I(D45 * year)     0.1503      0.042      3.606      0.000       0.068       0.232\n",
      "I(D46 * year)    -0.0502      0.039     -1.276      0.203      -0.128       0.027\n",
      "I(D47 * year)     0.0724      0.011      6.453      0.000       0.050       0.094\n",
      "I(D48 * year)    -0.1225      0.022     -5.593      0.000      -0.166      -0.079\n",
      "I(D49 * year)    -0.0337      0.016     -2.064      0.040      -0.066      -0.002\n",
      "I(D50 * year)     0.0567      0.026      2.199      0.029       0.006       0.107\n",
      "I(D51 * year)     0.0389      0.016      2.492      0.013       0.008       0.070\n",
      "I(D53 * year)    -0.0041      0.011     -0.364      0.716      -0.026       0.018\n",
      "I(D54 * year)     0.0458      0.018      2.490      0.013       0.010       0.082\n",
      "I(D55 * year)     0.0093      0.010      0.941      0.348      -0.010       0.029\n",
      "I(D56 * year)    -0.1175      0.075     -1.569      0.118      -0.265       0.030\n",
      "beertax           0.2964      0.231      1.285      0.200      -0.158       0.751\n",
      "==============================================================================\n",
      "Omnibus:                       10.972   Durbin-Watson:                   2.383\n",
      "Prob(Omnibus):                  0.004   Jarque-Bera (JB):               19.602\n",
      "Skew:                           0.141   Prob(JB):                     5.54e-05\n",
      "Kurtosis:                       4.149   Cond. No.                     3.73e+06\n",
      "==============================================================================\n",
      "\n",
      "Warnings:\n",
      "[1] Standard Errors are heteroscedasticity robust (HC1)\n",
      "[2] The condition number is large, 3.73e+06. This might indicate that there are\n",
      "strong multicollinearity or other numerical problems.\n"
     ]
    },
    {
     "name": "stderr",
     "output_type": "stream",
     "text": [
      "D:\\anaconda\\lib\\site-packages\\scipy\\stats\\_distn_infrastructure.py:877: RuntimeWarning: invalid value encountered in greater\n",
      "  return (self.a < x) & (x < self.b)\n",
      "D:\\anaconda\\lib\\site-packages\\scipy\\stats\\_distn_infrastructure.py:877: RuntimeWarning: invalid value encountered in less\n",
      "  return (self.a < x) & (x < self.b)\n",
      "D:\\anaconda\\lib\\site-packages\\scipy\\stats\\_distn_infrastructure.py:1831: RuntimeWarning: invalid value encountered in less_equal\n",
      "  cond2 = cond0 & (x <= self.a)\n"
     ]
    }
   ],
   "source": [
    "s = ''\n",
    "for state in data.state.unique():\n",
    "    data['D{0}'.format(state)] = [\n",
    "            int(data.state[I] == state) for I in range(data.shape[0])]\n",
    "    s = s + 'I(D{0}'.format(state) + ' * year) + '\n",
    "mod5 = smf.ols('I(mrall * 10000) ~ C(state) + ' + s + 'beertax - 1', data=data)\n",
    "res5 = mod5.fit().get_robustcov_results()\n",
    "print(res5.summary())"
   ]
  },
  {
   "cell_type": "markdown",
   "metadata": {},
   "source": [
    "$\\ddot{y}_{it} = \\beta_1\\ddot{x}_{it} + \\ddot{u}_{it}$\n",
    "\n",
    "where $\\ddot{z}_{it} = z_{it} - \\frac{4T+2}{T-1}\\bar{z}_i + \\frac{6t}{T-1}\\bar{z}_i + \\frac6{T-1}z_i^* - \\frac{12t}{(T+1)(T-1)}z_i^*$\n",
    "\n",
    "$z_i^* = \\frac1T\\sum_{t=1}^Ttz_{it}$"
   ]
  },
  {
   "cell_type": "code",
   "execution_count": 6,
   "metadata": {},
   "outputs": [
    {
     "name": "stdout",
     "output_type": "stream",
     "text": [
      "                                 OLS Regression Results                                \n",
      "=======================================================================================\n",
      "Dep. Variable:     I(mralldt * 10000)   R-squared (uncentered):                   0.005\n",
      "Model:                            OLS   Adj. R-squared (uncentered):              0.002\n",
      "Method:                 Least Squares   F-statistic:                              2.315\n",
      "Date:                Sat, 07 Dec 2019   Prob (F-statistic):                       0.129\n",
      "Time:                        15:44:38   Log-Likelihood:                          237.79\n",
      "No. Observations:                 336   AIC:                                     -473.6\n",
      "Df Residuals:                     335   BIC:                                     -469.8\n",
      "Df Model:                           1                                                  \n",
      "Covariance Type:                  HC1                                                  \n",
      "==============================================================================\n",
      "                 coef    std err          t      P>|t|      [0.025      0.975]\n",
      "------------------------------------------------------------------------------\n",
      "beertaxdt      0.2964      0.195      1.521      0.129      -0.087       0.680\n",
      "==============================================================================\n",
      "Omnibus:                       10.972   Durbin-Watson:                   2.383\n",
      "Prob(Omnibus):                  0.004   Jarque-Bera (JB):               19.602\n",
      "Skew:                           0.141   Prob(JB):                     5.54e-05\n",
      "Kurtosis:                       4.149   Cond. No.                         1.00\n",
      "==============================================================================\n",
      "\n",
      "Warnings:\n",
      "[1] Standard Errors are heteroscedasticity robust (HC1)\n"
     ]
    }
   ],
   "source": [
    "def detrend(s):\n",
    "    trend = []\n",
    "    T = data.year.unique().size\n",
    "    for state in data.state.unique():\n",
    "        temp = data[data.state == state][s]\n",
    "        time = data[data.state == state].year - 1981\n",
    "        trend.append(temp.dot(time) * np.ones_like(temp) / T)\n",
    "    data[s + 't'] = np.hstack(trend)\n",
    "    time = np.hstack([data.year.unique() - 1981\n",
    "                      for state in data.state.unique()])\n",
    "    data[s + 'dt'] = (data[s] - (4*T+2) / (T-1) * data[s + 'i'] +\n",
    "        6 / (T-1) * data[s + 'i'] * time +\n",
    "        6 / (T-1) * data[s + 't'] -\n",
    "        12 / (T+1) / (T-1) * data[s + 't'] * time)\n",
    "detrend('mrall')\n",
    "detrend('beertax')\n",
    "mod6 = smf.ols('I(mralldt * 10000) ~ beertaxdt - 1', data=data)\n",
    "res6 = mod6.fit().get_robustcov_results()\n",
    "print(res6.summary())"
   ]
  },
  {
   "cell_type": "markdown",
   "metadata": {},
   "source": [
    "$\\Delta\\Delta{y}_{it} = \\beta_1\\Delta\\Delta{x}_{it} + \\Delta\\Delta{u}_{it}$\n",
    "\n",
    "where $\\Delta\\Delta{z}_{it} = \\Delta z_{it} - \\Delta z_{i,t-1} = z_{it} - 2z_{i,t-1} + z_{i,t-2}$"
   ]
  },
  {
   "cell_type": "code",
   "execution_count": 7,
   "metadata": {},
   "outputs": [
    {
     "name": "stdout",
     "output_type": "stream",
     "text": [
      "                                  OLS Regression Results                                  \n",
      "==========================================================================================\n",
      "Dep. Variable:     I(mralldiff2 * 10000)   R-squared (uncentered):                   0.013\n",
      "Model:                               OLS   Adj. R-squared (uncentered):              0.008\n",
      "Method:                    Least Squares   F-statistic:                              4.826\n",
      "Date:                   Sat, 07 Dec 2019   Prob (F-statistic):                      0.0290\n",
      "Time:                           15:44:38   Log-Likelihood:                         -56.714\n",
      "No. Observations:                    240   AIC:                                      115.4\n",
      "Df Residuals:                        239   BIC:                                      118.9\n",
      "Df Model:                              1                                                  \n",
      "Covariance Type:                     HC1                                                  \n",
      "================================================================================\n",
      "                   coef    std err          t      P>|t|      [0.025      0.975]\n",
      "--------------------------------------------------------------------------------\n",
      "beertaxdiff2     0.8673      0.395      2.197      0.029       0.090       1.645\n",
      "==============================================================================\n",
      "Omnibus:                       14.406   Durbin-Watson:                   3.006\n",
      "Prob(Omnibus):                  0.001   Jarque-Bera (JB):               38.818\n",
      "Skew:                          -0.043   Prob(JB):                     3.72e-09\n",
      "Kurtosis:                       4.968   Cond. No.                         1.00\n",
      "==============================================================================\n",
      "\n",
      "Warnings:\n",
      "[1] Standard Errors are heteroscedasticity robust (HC1)\n"
     ]
    }
   ],
   "source": [
    "data['mralldiff2'] = data.mrall.diff().diff()\n",
    "data['beertaxdiff2'] = data.beertax.diff().diff()\n",
    "for K in range(data.shape[0]):\n",
    "    if data.loc[K, 'year'] == 1982 or data.loc[K, 'year'] == 1983:\n",
    "        data.loc[K, 'mralldiff2'] = np.nan\n",
    "        data.loc[K, 'beertaxdiff2'] = np.nan\n",
    "mod7 = smf.ols('I(mralldiff2 * 10000) ~ beertaxdiff2 - 1', data=data)\n",
    "res7 = mod7.fit().get_robustcov_results()\n",
    "print(res7.summary())"
   ]
  }
 ],
 "metadata": {
  "kernelspec": {
   "display_name": "Python 3",
   "language": "python",
   "name": "python3"
  },
  "language_info": {
   "codemirror_mode": {
    "name": "ipython",
    "version": 3
   },
   "file_extension": ".py",
   "mimetype": "text/x-python",
   "name": "python",
   "nbconvert_exporter": "python",
   "pygments_lexer": "ipython3",
   "version": "3.7.3"
  }
 },
 "nbformat": 4,
 "nbformat_minor": 2
}
