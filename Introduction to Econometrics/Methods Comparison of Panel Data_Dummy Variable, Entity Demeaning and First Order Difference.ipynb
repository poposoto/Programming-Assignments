{
 "cells": [
  {
   "cell_type": "markdown",
   "metadata": {},
   "source": [
    "Here, I exploit three methods to estimate $\\beta$ in the following fixed effects model\n",
    "$$\n",
    "y_{it} = \\beta x_{it} + c_i + u_{it}\\quad i = 1, \\cdots, N; t = 1, \\cdots, T,\n",
    "$$\n",
    "where $c_i$'s are omitted effects with\n",
    "$$\n",
    "E(c_i|X_i) = h(X_i) \\equiv \\alpha_i.\n",
    "$$"
   ]
  },
  {
   "cell_type": "markdown",
   "metadata": {},
   "source": [
    "First is to use the least squares dummy variable model\n",
    "$$\n",
    "y_{it} = \\beta x_{it} + \\alpha_i + \\varepsilon_{it},\n",
    "$$\n",
    "where\n",
    "$$\n",
    "\\varepsilon_{it} = u_{it} + v_i \\equiv u_{it} + (c_i - \\alpha_i).\n",
    "$$\n",
    "In matrix form, it can be written as\n",
    "$$\n",
    "y = Z \\begin{pmatrix} \\beta\\\\ \\alpha \\end{pmatrix} + \\varepsilon \\equiv\n",
    "\\begin{pmatrix} X & D \\end{pmatrix}\\begin{pmatrix} \\beta\\\\ \\alpha \\end{pmatrix} + \\varepsilon,\n",
    "$$\n",
    "where\n",
    "$$\n",
    "D = I_N \\otimes 1_T = \\begin{pmatrix} 1_T & 0 & \\cdots & 0\\\\\n",
    "0 & 1_T & \\cdots & 0\\\\\n",
    "\\vdots & \\vdots & \\ddots & \\vdots\\\\\n",
    "0 & 0 & \\cdots & 1_T \\end{pmatrix}.\n",
    "$$\n",
    "So, the estimator of $\\beta$, $\\hat{\\beta}^{dummy}$, is the first element of\n",
    "$$\n",
    "(Z'Z)^{-1}Z'y.\n",
    "$$"
   ]
  },
  {
   "cell_type": "markdown",
   "metadata": {},
   "source": [
    "Second is to use the entity-demeaned approach, which is essentially equivalent to dummy variable approach and is given by\n",
    "$$\n",
    "(y_{it} - \\bar{y}_{i\\cdot}) = \\beta (x_{it} - \\bar{x}_{i\\cdot}) + (u_{it} - \\bar{u}_{i\\cdot}),\n",
    "$$\n",
    "or in matrix form,\n",
    "$$\n",
    "(My) = (MX) \\beta + (Mu),\n",
    "$$\n",
    "where\n",
    "$$\n",
    "M = I_{N\\times T} - D(D'D)^{-1}D'.\n",
    "$$\n",
    "So, the estimator of $\\beta$ is\n",
    "$$\n",
    "\\hat{\\beta}^{demeaned} = (X'MX)^{-1}(X'My).\n",
    "$$"
   ]
  },
  {
   "cell_type": "markdown",
   "metadata": {},
   "source": [
    "Third is to regress the following first difference equation\n",
    "$$\n",
    "(y_{it} - y_{i,t-1}) = \\beta (x_{it} - x_{i,t-1}) + (u_{it} - u_{i,t-1}),\\quad i = 1, \\cdots, N; t = 2, \\cdots, T,\n",
    "$$\n",
    "or in matrix form,\n",
    "$$\n",
    "\\Delta y = \\Delta X\\beta + \\Delta u.\n",
    "$$\n",
    "So, the estimator of $\\beta$ is\n",
    "$$\n",
    "\\hat{\\beta}^{diff} = (\\Delta X'\\Delta X)^{-1}(\\Delta X'\\Delta y).\n",
    "$$"
   ]
  },
  {
   "cell_type": "markdown",
   "metadata": {},
   "source": [
    "It can be shown that\n",
    "$$\n",
    "\\underset{N\\to\\infty}{\\rm{plim}}\\hat{\\beta}^{dummy} =\n",
    "\\underset{N\\to\\infty}{\\rm{plim}}\\hat{\\beta}^{demeaned} =\n",
    "\\underset{N\\to\\infty}{\\rm{plim}}\\hat{\\beta}^{diff} = \\beta.\n",
    "$$\n",
    "Furthermore, it is plausible that\n",
    "$$\n",
    "{\\rm{Var}}\\hat{\\beta}^{dummy} = {\\rm{Var}}\\hat{\\beta}^{demeaned} \\le {\\rm{Var}}\\hat{\\beta}^{diff},\n",
    "$$\n",
    "where the equality is because the dummy variable approach is essentially equivalent to the entity-demeaned approach (due to the Frisch-Waugh-Lovell Theorem)\n",
    "and the inequality is because some information may be lost when the first difference is taken.\n",
    "\n",
    "To examine this, I will do the following Monte Carlo study."
   ]
  },
  {
   "cell_type": "markdown",
   "metadata": {},
   "source": [
    "First, I generate a standard normal distribution sample of size $N\\times T + N\\times T + N$, denoted by $(r_1, \\cdots, r_{N\\times T + N\\times T + N})$.\n",
    "\n",
    "Next, I let\n",
    "$$\n",
    "\\begin{cases}\n",
    "x_{11} = 2 r_1,\\\\\n",
    "\\vdots\\\\\n",
    "x_{1T} = 2 r_T,\\\\\n",
    "\\vdots\\\\\n",
    "x_{N1} = 2 r_{(N-1)\\times T+1},\\\\\n",
    "\\vdots\\\\\n",
    "x_{NT} = 2 r_{N\\times T},\\\\\n",
    "u_{11} = r_{N\\times T + 1},\\\\\n",
    "\\vdots\\\\\n",
    "u_{1T} = r_{N\\times T + T},\\\\\n",
    "\\vdots\\\\\n",
    "u_{N1} = r_{N\\times T + (N-1)\\times T+1},\\\\\n",
    "\\vdots\\\\\n",
    "u_{NT} = r_{N\\times T + N\\times T},\\\\\n",
    "v_{1} = r_{N\\times T + N\\times T + 1},\\\\\n",
    "\\vdots\\\\\n",
    "v_{N} = r_{N\\times T + N\\times T + N},\n",
    "\\end{cases}\n",
    "$$\n",
    "so that\n",
    "$$\n",
    "\\begin{cases}\n",
    "x_{11}, \\cdots, x_{1T}, \\cdots, x_{N1}, \\cdots, x_{NT}\\overset{iid}{\\sim}\\mathscr{N}(0,4),\\\\\n",
    "u_{11}, \\cdots, u_{1T}, \\cdots, u_{N1}, \\cdots, u_{NT}\\overset{iid}{\\sim}\\mathscr{N}(0,1),\\\\\n",
    "v_{1}, \\cdots, v_{N}\\overset{iid}{\\sim}\\mathscr{N}(0,1),\\\\\n",
    "X, U, V\\text{ are mutually independent.}\n",
    "\\end{cases}\n",
    "$$\n",
    "\n",
    "For simplicity, I let $h(X_i) = \\bar{x}_{i\\cdot}$ and $\\beta = 3$,\n",
    "and thus\n",
    "$$\n",
    "\\begin{cases}\n",
    "\\alpha = \\begin{pmatrix} \\bar{x}_{1\\cdot}\\\\\\vdots\\\\\\bar{x}_{N\\cdot}\\end{pmatrix},\\\\\n",
    "c = \\alpha + V,\\\\\n",
    "y = X\\beta + Dc + U.\n",
    "\\end{cases}\n",
    "$$"
   ]
  },
  {
   "cell_type": "markdown",
   "metadata": {},
   "source": [
    "The Python code and the correponding result are given as follows."
   ]
  },
  {
   "cell_type": "code",
   "execution_count": 1,
   "metadata": {},
   "outputs": [],
   "source": [
    "import numpy as np\n",
    "import pandas as pd\n",
    "random = np.random.RandomState(2202566)"
   ]
  },
  {
   "cell_type": "code",
   "execution_count": 2,
   "metadata": {},
   "outputs": [],
   "source": [
    "def compare(N, T=5, beta=3, n=200):\n",
    "    betas_dummy = []\n",
    "    betas_demeaned = []\n",
    "    betas_diff = []\n",
    "    for I in range(n):\n",
    "        R = random.normal(size=N*T+N*T+N)\n",
    "        X = 2 * R[:N*T]\n",
    "        U = R[N*T:2*N*T]\n",
    "        V = R[2*N*T:]\n",
    "        D = np.kron(np.eye(N), np.ones(T)).T\n",
    "        C = D.T.dot(X) / T + V\n",
    "        Y = D.dot(C) + beta * X + U\n",
    "        # dummy variable approach\n",
    "        Z = np.vstack([X, D.T]).T\n",
    "        betas_dummy.append(np.linalg.inv(Z.T.dot(Z)).dot(Z.T).dot(Y)[0])\n",
    "        # entity-demeaned approach\n",
    "        M = np.eye(N*T) - D.dot(D.T) / T\n",
    "        betas_demeaned.append(X.T.dot(M).dot(Y) / X.T.dot(M).dot(X))\n",
    "        # difference approach\n",
    "        X2 = X[[bool(J%5) for J in range(N*T)]]\n",
    "        X1 = X[[bool((J-4)%5) for J in range(N*T)]]\n",
    "        dX = X2 - X1\n",
    "        Y2 = Y[[bool(J%5) for J in range(N*T)]]\n",
    "        Y1 = Y[[bool((J-4)%5) for J in range(N*T)]]\n",
    "        dY = Y2 - Y1\n",
    "        betas_diff.append(dX.T.dot(dY) / dX.T.dot(dX))\n",
    "    mean = []\n",
    "    se = []\n",
    "    bias = []\n",
    "    rmse = []\n",
    "    types = ['dummy', 'demeaned', 'diff']\n",
    "    bias_dummy = np.array(betas_dummy) - beta\n",
    "    bias_demeaned = np.array(betas_demeaned) - beta\n",
    "    bias_diff = np.array(betas_diff) - beta\n",
    "    for regtype in types:\n",
    "        mean.append(np.array(eval('betas_' + regtype)).mean())\n",
    "        se.append(np.array(eval('betas_' + regtype)).std(ddof=1) / np.sqrt(n))\n",
    "        bias.append(np.median(eval('bias_' + regtype)))\n",
    "        rmse.append(np.sqrt((eval('bias_' + regtype) ** 2).sum() / n))\n",
    "    result = pd.DataFrame({'mean': mean, 'se': se,\n",
    "                           'bias_median': bias, 'rmse': rmse}, index=types)\n",
    "    print('N = {0}, T = {1}, beta = {2}, n = {3}'.format(N, T, beta, n))\n",
    "    display(result)"
   ]
  },
  {
   "cell_type": "code",
   "execution_count": 3,
   "metadata": {},
   "outputs": [
    {
     "name": "stdout",
     "output_type": "stream",
     "text": [
      "N = 10, T = 5, beta = 3, n = 200\n"
     ]
    },
    {
     "data": {
      "text/html": [
       "<div>\n",
       "<style scoped>\n",
       "    .dataframe tbody tr th:only-of-type {\n",
       "        vertical-align: middle;\n",
       "    }\n",
       "\n",
       "    .dataframe tbody tr th {\n",
       "        vertical-align: top;\n",
       "    }\n",
       "\n",
       "    .dataframe thead th {\n",
       "        text-align: right;\n",
       "    }\n",
       "</style>\n",
       "<table border=\"1\" class=\"dataframe\">\n",
       "  <thead>\n",
       "    <tr style=\"text-align: right;\">\n",
       "      <th></th>\n",
       "      <th>mean</th>\n",
       "      <th>se</th>\n",
       "      <th>bias_median</th>\n",
       "      <th>rmse</th>\n",
       "    </tr>\n",
       "  </thead>\n",
       "  <tbody>\n",
       "    <tr>\n",
       "      <th>dummy</th>\n",
       "      <td>3.003532</td>\n",
       "      <td>0.005174</td>\n",
       "      <td>0.001966</td>\n",
       "      <td>0.073072</td>\n",
       "    </tr>\n",
       "    <tr>\n",
       "      <th>demeaned</th>\n",
       "      <td>3.003532</td>\n",
       "      <td>0.005174</td>\n",
       "      <td>0.001966</td>\n",
       "      <td>0.073072</td>\n",
       "    </tr>\n",
       "    <tr>\n",
       "      <th>diff</th>\n",
       "      <td>3.010612</td>\n",
       "      <td>0.006218</td>\n",
       "      <td>0.008483</td>\n",
       "      <td>0.088354</td>\n",
       "    </tr>\n",
       "  </tbody>\n",
       "</table>\n",
       "</div>"
      ],
      "text/plain": [
       "              mean        se  bias_median      rmse\n",
       "dummy     3.003532  0.005174     0.001966  0.073072\n",
       "demeaned  3.003532  0.005174     0.001966  0.073072\n",
       "diff      3.010612  0.006218     0.008483  0.088354"
      ]
     },
     "metadata": {},
     "output_type": "display_data"
    }
   ],
   "source": [
    "compare(10)"
   ]
  },
  {
   "cell_type": "code",
   "execution_count": 4,
   "metadata": {},
   "outputs": [
    {
     "name": "stdout",
     "output_type": "stream",
     "text": [
      "N = 50, T = 5, beta = 3, n = 200\n"
     ]
    },
    {
     "data": {
      "text/html": [
       "<div>\n",
       "<style scoped>\n",
       "    .dataframe tbody tr th:only-of-type {\n",
       "        vertical-align: middle;\n",
       "    }\n",
       "\n",
       "    .dataframe tbody tr th {\n",
       "        vertical-align: top;\n",
       "    }\n",
       "\n",
       "    .dataframe thead th {\n",
       "        text-align: right;\n",
       "    }\n",
       "</style>\n",
       "<table border=\"1\" class=\"dataframe\">\n",
       "  <thead>\n",
       "    <tr style=\"text-align: right;\">\n",
       "      <th></th>\n",
       "      <th>mean</th>\n",
       "      <th>se</th>\n",
       "      <th>bias_median</th>\n",
       "      <th>rmse</th>\n",
       "    </tr>\n",
       "  </thead>\n",
       "  <tbody>\n",
       "    <tr>\n",
       "      <th>dummy</th>\n",
       "      <td>2.998543</td>\n",
       "      <td>0.002268</td>\n",
       "      <td>-0.002575</td>\n",
       "      <td>0.032024</td>\n",
       "    </tr>\n",
       "    <tr>\n",
       "      <th>demeaned</th>\n",
       "      <td>2.998543</td>\n",
       "      <td>0.002268</td>\n",
       "      <td>-0.002575</td>\n",
       "      <td>0.032024</td>\n",
       "    </tr>\n",
       "    <tr>\n",
       "      <th>diff</th>\n",
       "      <td>3.000123</td>\n",
       "      <td>0.002542</td>\n",
       "      <td>-0.000586</td>\n",
       "      <td>0.035862</td>\n",
       "    </tr>\n",
       "  </tbody>\n",
       "</table>\n",
       "</div>"
      ],
      "text/plain": [
       "              mean        se  bias_median      rmse\n",
       "dummy     2.998543  0.002268    -0.002575  0.032024\n",
       "demeaned  2.998543  0.002268    -0.002575  0.032024\n",
       "diff      3.000123  0.002542    -0.000586  0.035862"
      ]
     },
     "metadata": {},
     "output_type": "display_data"
    }
   ],
   "source": [
    "compare(50)"
   ]
  },
  {
   "cell_type": "code",
   "execution_count": 5,
   "metadata": {
    "scrolled": true
   },
   "outputs": [
    {
     "name": "stdout",
     "output_type": "stream",
     "text": [
      "N = 100, T = 5, beta = 3, n = 200\n"
     ]
    },
    {
     "data": {
      "text/html": [
       "<div>\n",
       "<style scoped>\n",
       "    .dataframe tbody tr th:only-of-type {\n",
       "        vertical-align: middle;\n",
       "    }\n",
       "\n",
       "    .dataframe tbody tr th {\n",
       "        vertical-align: top;\n",
       "    }\n",
       "\n",
       "    .dataframe thead th {\n",
       "        text-align: right;\n",
       "    }\n",
       "</style>\n",
       "<table border=\"1\" class=\"dataframe\">\n",
       "  <thead>\n",
       "    <tr style=\"text-align: right;\">\n",
       "      <th></th>\n",
       "      <th>mean</th>\n",
       "      <th>se</th>\n",
       "      <th>bias_median</th>\n",
       "      <th>rmse</th>\n",
       "    </tr>\n",
       "  </thead>\n",
       "  <tbody>\n",
       "    <tr>\n",
       "      <th>dummy</th>\n",
       "      <td>3.000071</td>\n",
       "      <td>0.001827</td>\n",
       "      <td>0.002920</td>\n",
       "      <td>0.025769</td>\n",
       "    </tr>\n",
       "    <tr>\n",
       "      <th>demeaned</th>\n",
       "      <td>3.000071</td>\n",
       "      <td>0.001827</td>\n",
       "      <td>0.002920</td>\n",
       "      <td>0.025769</td>\n",
       "    </tr>\n",
       "    <tr>\n",
       "      <th>diff</th>\n",
       "      <td>2.999335</td>\n",
       "      <td>0.001972</td>\n",
       "      <td>0.002338</td>\n",
       "      <td>0.027821</td>\n",
       "    </tr>\n",
       "  </tbody>\n",
       "</table>\n",
       "</div>"
      ],
      "text/plain": [
       "              mean        se  bias_median      rmse\n",
       "dummy     3.000071  0.001827     0.002920  0.025769\n",
       "demeaned  3.000071  0.001827     0.002920  0.025769\n",
       "diff      2.999335  0.001972     0.002338  0.027821"
      ]
     },
     "metadata": {},
     "output_type": "display_data"
    }
   ],
   "source": [
    "compare(100)"
   ]
  },
  {
   "cell_type": "code",
   "execution_count": 6,
   "metadata": {},
   "outputs": [
    {
     "name": "stdout",
     "output_type": "stream",
     "text": [
      "N = 500, T = 5, beta = 3, n = 200\n"
     ]
    },
    {
     "data": {
      "text/html": [
       "<div>\n",
       "<style scoped>\n",
       "    .dataframe tbody tr th:only-of-type {\n",
       "        vertical-align: middle;\n",
       "    }\n",
       "\n",
       "    .dataframe tbody tr th {\n",
       "        vertical-align: top;\n",
       "    }\n",
       "\n",
       "    .dataframe thead th {\n",
       "        text-align: right;\n",
       "    }\n",
       "</style>\n",
       "<table border=\"1\" class=\"dataframe\">\n",
       "  <thead>\n",
       "    <tr style=\"text-align: right;\">\n",
       "      <th></th>\n",
       "      <th>mean</th>\n",
       "      <th>se</th>\n",
       "      <th>bias_median</th>\n",
       "      <th>rmse</th>\n",
       "    </tr>\n",
       "  </thead>\n",
       "  <tbody>\n",
       "    <tr>\n",
       "      <th>dummy</th>\n",
       "      <td>3.002037</td>\n",
       "      <td>0.000856</td>\n",
       "      <td>0.001905</td>\n",
       "      <td>0.012252</td>\n",
       "    </tr>\n",
       "    <tr>\n",
       "      <th>demeaned</th>\n",
       "      <td>3.002037</td>\n",
       "      <td>0.000856</td>\n",
       "      <td>0.001905</td>\n",
       "      <td>0.012252</td>\n",
       "    </tr>\n",
       "    <tr>\n",
       "      <th>diff</th>\n",
       "      <td>3.001232</td>\n",
       "      <td>0.001018</td>\n",
       "      <td>0.001507</td>\n",
       "      <td>0.014409</td>\n",
       "    </tr>\n",
       "  </tbody>\n",
       "</table>\n",
       "</div>"
      ],
      "text/plain": [
       "              mean        se  bias_median      rmse\n",
       "dummy     3.002037  0.000856     0.001905  0.012252\n",
       "demeaned  3.002037  0.000856     0.001905  0.012252\n",
       "diff      3.001232  0.001018     0.001507  0.014409"
      ]
     },
     "metadata": {},
     "output_type": "display_data"
    }
   ],
   "source": [
    "compare(500)"
   ]
  },
  {
   "cell_type": "code",
   "execution_count": 7,
   "metadata": {},
   "outputs": [
    {
     "name": "stdout",
     "output_type": "stream",
     "text": [
      "N = 1000, T = 5, beta = 3, n = 200\n"
     ]
    },
    {
     "data": {
      "text/html": [
       "<div>\n",
       "<style scoped>\n",
       "    .dataframe tbody tr th:only-of-type {\n",
       "        vertical-align: middle;\n",
       "    }\n",
       "\n",
       "    .dataframe tbody tr th {\n",
       "        vertical-align: top;\n",
       "    }\n",
       "\n",
       "    .dataframe thead th {\n",
       "        text-align: right;\n",
       "    }\n",
       "</style>\n",
       "<table border=\"1\" class=\"dataframe\">\n",
       "  <thead>\n",
       "    <tr style=\"text-align: right;\">\n",
       "      <th></th>\n",
       "      <th>mean</th>\n",
       "      <th>se</th>\n",
       "      <th>bias_median</th>\n",
       "      <th>rmse</th>\n",
       "    </tr>\n",
       "  </thead>\n",
       "  <tbody>\n",
       "    <tr>\n",
       "      <th>dummy</th>\n",
       "      <td>2.999709</td>\n",
       "      <td>0.000564</td>\n",
       "      <td>-0.000263</td>\n",
       "      <td>0.007963</td>\n",
       "    </tr>\n",
       "    <tr>\n",
       "      <th>demeaned</th>\n",
       "      <td>2.999709</td>\n",
       "      <td>0.000564</td>\n",
       "      <td>-0.000263</td>\n",
       "      <td>0.007963</td>\n",
       "    </tr>\n",
       "    <tr>\n",
       "      <th>diff</th>\n",
       "      <td>3.000644</td>\n",
       "      <td>0.000662</td>\n",
       "      <td>0.000628</td>\n",
       "      <td>0.009359</td>\n",
       "    </tr>\n",
       "  </tbody>\n",
       "</table>\n",
       "</div>"
      ],
      "text/plain": [
       "              mean        se  bias_median      rmse\n",
       "dummy     2.999709  0.000564    -0.000263  0.007963\n",
       "demeaned  2.999709  0.000564    -0.000263  0.007963\n",
       "diff      3.000644  0.000662     0.000628  0.009359"
      ]
     },
     "metadata": {},
     "output_type": "display_data"
    }
   ],
   "source": [
    "compare(1000)"
   ]
  },
  {
   "cell_type": "markdown",
   "metadata": {},
   "source": [
    "Here, I have run the simulation for $n=200$ times. Each time I used the three methods to calculate the estimates of $\\beta$.\n",
    "\n",
    "For each method, I used $\\hat{\\beta}_1, \\cdots, \\hat{\\beta}_n$ to denote the simulated estimates.\n",
    "\n",
    "To evaluate the three methods, I reported four statistics, which are defined as:\n",
    "\n",
    "mean of estimates (mean),\n",
    "$$\n",
    "\\bar{\\hat{\\beta}} = \\frac1n\\sum_{i=1}^n\\hat{\\beta}_i,\n",
    "$$\n",
    "standard error of estimates (se),\n",
    "$$\n",
    "se\\left(\\hat{\\beta}\\right) = \\sqrt{\\frac1{n(n-1)}\\sum_{i=1}^n\\left(\\hat{\\beta}_i-\\bar{\\hat{\\beta}}\\right)^2},\n",
    "$$\n",
    "median of the differences between estimate and estimand (bias_median),\n",
    "$$\n",
    "Median\\left(\\hat{\\beta}_i-\\beta\\right),\n",
    "$$\n",
    "and root mean square error of estimates (rmse),\n",
    "$$\n",
    "RMSE\\left(\\hat{\\beta}\\right) = \\sqrt{\\frac1n\\sum_{i=1}^n\\left(\\hat{\\beta}_i-\\beta\\right)^2}.\n",
    "$$"
   ]
  },
  {
   "cell_type": "markdown",
   "metadata": {},
   "source": [
    "Apparently, all three methods converge to the true value of $\\beta$, and the standard error and RMSE results indicate that the dummy variable approach as well as the entity-demeaned approach are more efficient than the difference approach, as expected above."
   ]
  }
 ],
 "metadata": {
  "kernelspec": {
   "display_name": "Python 3",
   "language": "python",
   "name": "python3"
  },
  "language_info": {
   "codemirror_mode": {
    "name": "ipython",
    "version": 3
   },
   "file_extension": ".py",
   "mimetype": "text/x-python",
   "name": "python",
   "nbconvert_exporter": "python",
   "pygments_lexer": "ipython3",
   "version": "3.7.3"
  }
 },
 "nbformat": 4,
 "nbformat_minor": 2
}
