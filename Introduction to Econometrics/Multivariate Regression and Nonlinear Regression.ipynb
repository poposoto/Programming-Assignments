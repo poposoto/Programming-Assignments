{
 "cells": [
  {
   "cell_type": "code",
   "execution_count": 1,
   "metadata": {},
   "outputs": [],
   "source": [
    "import matplotlib.pyplot as plt\n",
    "import numpy as np\n",
    "import pandas as pd\n",
    "import seaborn\n",
    "import statsmodels.formula.api as smf\n",
    "from scipy.optimize import leastsq\n",
    "from scipy.optimize import fmin_bfgs\n",
    "seaborn.set()"
   ]
  },
  {
   "cell_type": "markdown",
   "metadata": {},
   "source": [
    "## CHAPTER 7 Hypothesis Tests and Confidence Intervals in Multiple Regression"
   ]
  },
  {
   "cell_type": "code",
   "execution_count": 2,
   "metadata": {},
   "outputs": [],
   "source": [
    "data = pd.read_csv('https://github.com/poposoto/Programming-Assignments/blob/master/Introduction%20to%20Econometrics/str.csv?raw=true')\n",
    "y = data.score\n",
    "x1 = data.strat\n",
    "x2 = data.exppup / 1000\n",
    "x3 = data.eng"
   ]
  },
  {
   "cell_type": "code",
   "execution_count": 3,
   "metadata": {},
   "outputs": [
    {
     "name": "stdout",
     "output_type": "stream",
     "text": [
      "                            OLS Regression Results                            \n",
      "==============================================================================\n",
      "Dep. Variable:                      y   R-squared:                       0.436\n",
      "Model:                            OLS   Adj. R-squared:                  0.432\n",
      "Method:                 Least Squares   F-statistic:                     107.4\n",
      "Date:                Fri, 06 Dec 2019   Prob (F-statistic):           1.68e-51\n",
      "Time:                        23:14:09   Log-Likelihood:                -1712.8\n",
      "No. Observations:                 420   AIC:                             3434.\n",
      "Df Residuals:                     416   BIC:                             3450.\n",
      "Df Model:                           3                                         \n",
      "Covariance Type:            nonrobust                                         \n",
      "==============================================================================\n",
      "                 coef    std err          t      P>|t|      [0.025      0.975]\n",
      "------------------------------------------------------------------------------\n",
      "Intercept    649.5814     15.207     42.717      0.000     619.690     679.473\n",
      "x1            -0.2861      0.481     -0.595      0.552      -1.231       0.658\n",
      "x2             3.8671      1.412      2.738      0.006       1.091       6.643\n",
      "x3            -0.6560      0.039    -16.771      0.000      -0.733      -0.579\n",
      "==============================================================================\n",
      "Omnibus:                        0.044   Durbin-Watson:                   0.742\n",
      "Prob(Omnibus):                  0.978   Jarque-Bera (JB):                0.069\n",
      "Skew:                          -0.025   Prob(JB):                        0.966\n",
      "Kurtosis:                       2.961   Cond. No.                         631.\n",
      "==============================================================================\n",
      "\n",
      "Warnings:\n",
      "[1] Standard Errors assume that the covariance matrix of the errors is correctly specified.\n"
     ]
    }
   ],
   "source": [
    "model = smf.ols('y ~ x1 + x2 + x3', data).fit()\n",
    "print(model.summary())"
   ]
  },
  {
   "cell_type": "code",
   "execution_count": 4,
   "metadata": {},
   "outputs": [
    {
     "name": "stdout",
     "output_type": "stream",
     "text": [
      "                            OLS Regression Results                            \n",
      "==============================================================================\n",
      "Dep. Variable:                      y   R-squared:                       0.436\n",
      "Model:                            OLS   Adj. R-squared:                  0.432\n",
      "Method:                 Least Squares   F-statistic:                     147.1\n",
      "Date:                Fri, 06 Dec 2019   Prob (F-statistic):           5.61e-65\n",
      "Time:                        23:14:09   Log-Likelihood:                -1712.8\n",
      "No. Observations:                 420   AIC:                             3434.\n",
      "Df Residuals:                     416   BIC:                             3450.\n",
      "Df Model:                           3                                         \n",
      "Covariance Type:                  HC1                                         \n",
      "==============================================================================\n",
      "                 coef    std err          t      P>|t|      [0.025      0.975]\n",
      "------------------------------------------------------------------------------\n",
      "Intercept    649.5814     15.457     42.025      0.000     619.198     679.965\n",
      "x1            -0.2861      0.482     -0.594      0.553      -1.234       0.661\n",
      "x2             3.8671      1.580      2.447      0.015       0.760       6.974\n",
      "x3            -0.6560      0.032    -20.632      0.000      -0.718      -0.593\n",
      "==============================================================================\n",
      "Omnibus:                        0.044   Durbin-Watson:                   0.742\n",
      "Prob(Omnibus):                  0.978   Jarque-Bera (JB):                0.069\n",
      "Skew:                          -0.025   Prob(JB):                        0.966\n",
      "Kurtosis:                       2.961   Cond. No.                         631.\n",
      "==============================================================================\n",
      "\n",
      "Warnings:\n",
      "[1] Standard Errors are heteroscedasticity robust (HC1)\n"
     ]
    }
   ],
   "source": [
    "robust = model.get_robustcov_results()\n",
    "print(robust.summary())"
   ]
  },
  {
   "cell_type": "markdown",
   "metadata": {},
   "source": [
    "### 7.2 Tests of Joint Hypotheses"
   ]
  },
  {
   "cell_type": "markdown",
   "metadata": {},
   "source": [
    "#### heteroskedasticity-robust F-statistic p.226"
   ]
  },
  {
   "cell_type": "code",
   "execution_count": 5,
   "metadata": {},
   "outputs": [
    {
     "name": "stdout",
     "output_type": "stream",
     "text": [
      "<F test: F=array([[5.431559]]), p=0.004692207882681964, df_denom=416, df_num=2>\n"
     ]
    }
   ],
   "source": [
    "print(robust.f_test('x1 = 0, x2 = 0'))"
   ]
  },
  {
   "cell_type": "markdown",
   "metadata": {},
   "source": [
    "#### homoskedasticity-only F-statistic p.228\n",
    "approach1 directly"
   ]
  },
  {
   "cell_type": "code",
   "execution_count": 6,
   "metadata": {},
   "outputs": [
    {
     "name": "stdout",
     "output_type": "stream",
     "text": [
      "<F test: F=array([[8.00342272]]), p=0.0003884740659421272, df_denom=416, df_num=2>\n"
     ]
    }
   ],
   "source": [
    "print(model.f_test('x1 = 0, x2 = 0'))"
   ]
  },
  {
   "cell_type": "markdown",
   "metadata": {},
   "source": [
    "approach2 by $R^2$"
   ]
  },
  {
   "cell_type": "code",
   "execution_count": 7,
   "metadata": {},
   "outputs": [
    {
     "name": "stdout",
     "output_type": "stream",
     "text": [
      "8.003422717725597\n"
     ]
    }
   ],
   "source": [
    "restricted = smf.ols('y ~ x3', data).fit()\n",
    "print((model.rsquared - restricted.rsquared) /\n",
    "      (model.df_model - restricted.df_model) /\n",
    "      (1 - model.rsquared) * model.df_resid)"
   ]
  },
  {
   "cell_type": "markdown",
   "metadata": {},
   "source": [
    "approach3 by $SSR$"
   ]
  },
  {
   "cell_type": "code",
   "execution_count": 8,
   "metadata": {},
   "outputs": [
    {
     "name": "stdout",
     "output_type": "stream",
     "text": [
      "8.003422717725604\n"
     ]
    }
   ],
   "source": [
    "print((restricted.ssr - model.ssr) / (model.df_model - restricted.df_model) /\n",
    "      model.ssr * model.df_resid)"
   ]
  },
  {
   "cell_type": "markdown",
   "metadata": {},
   "source": [
    "### 7.3 Testing Single Restrictions Involving Multiple Coefficients"
   ]
  },
  {
   "cell_type": "markdown",
   "metadata": {},
   "source": [
    "#### approach1 test the restriction directly"
   ]
  },
  {
   "cell_type": "code",
   "execution_count": 9,
   "metadata": {},
   "outputs": [
    {
     "name": "stdout",
     "output_type": "stream",
     "text": [
      "<F test: F=array([[8.93871521]]), p=0.0029576196110182333, df_denom=416, df_num=1>\n"
     ]
    }
   ],
   "source": [
    "print(robust.f_test('x1 = x2'))"
   ]
  },
  {
   "cell_type": "code",
   "execution_count": 10,
   "metadata": {},
   "outputs": [
    {
     "name": "stdout",
     "output_type": "stream",
     "text": [
      "                             Test for Constraints                             \n",
      "==============================================================================\n",
      "                 coef    std err          t      P>|t|      [0.025      0.975]\n",
      "------------------------------------------------------------------------------\n",
      "c0            -4.1532      1.389     -2.990      0.003      -6.884      -1.423\n",
      "==============================================================================\n"
     ]
    }
   ],
   "source": [
    "print(robust.t_test('x1 = x2'))"
   ]
  },
  {
   "cell_type": "markdown",
   "metadata": {},
   "source": [
    "#### approach2 transform the regression"
   ]
  },
  {
   "cell_type": "code",
   "execution_count": 11,
   "metadata": {},
   "outputs": [
    {
     "name": "stdout",
     "output_type": "stream",
     "text": [
      "                             Test for Constraints                             \n",
      "==============================================================================\n",
      "                 coef    std err          t      P>|t|      [0.025      0.975]\n",
      "------------------------------------------------------------------------------\n",
      "c0            -4.1532      1.389     -2.990      0.003      -6.884      -1.423\n",
      "==============================================================================\n"
     ]
    }
   ],
   "source": [
    "w = x1 + x2\n",
    "transform = smf.ols('y ~ x1 + w + x3', data).fit().get_robustcov_results()\n",
    "print(transform.t_test('x1'))"
   ]
  },
  {
   "cell_type": "markdown",
   "metadata": {},
   "source": [
    "## CHAPTER 8  Nonlinear Regression Functions"
   ]
  },
  {
   "cell_type": "code",
   "execution_count": 12,
   "metadata": {},
   "outputs": [
    {
     "data": {
      "text/plain": [
       "[(600, 740), (0, 60)]"
      ]
     },
     "execution_count": 12,
     "metadata": {},
     "output_type": "execute_result"
    },
    {
     "data": {
      "image/png": "[encoded data removed]",
      "text/plain": [
       "<Figure size 432x288 with 1 Axes>"
      ]
     },
     "metadata": {
      "needs_background": "light"
     },
     "output_type": "display_data"
    }
   ],
   "source": [
    "data2 = pd.read_excel('https://github.com/poposoto/Programming-Assignments/blob/master/Introduction%20to%20Econometrics/caschool.xlsx?raw=true')\n",
    "testscore = data2.testscr\n",
    "income = data2.avginc\n",
    "fig, ax = plt.subplots()\n",
    "ax.scatter(income, testscore)\n",
    "ax.set(xlim=[0, 60], ylim=[600, 740])"
   ]
  },
  {
   "cell_type": "markdown",
   "metadata": {},
   "source": [
    "### 8.1  A General Strategy for Modeling Nonlinear Regression Functions"
   ]
  },
  {
   "cell_type": "markdown",
   "metadata": {},
   "source": [
    "#### Standard errors of estimated effects p.264"
   ]
  },
  {
   "cell_type": "code",
   "execution_count": 13,
   "metadata": {},
   "outputs": [
    {
     "name": "stdout",
     "output_type": "stream",
     "text": [
      "                            OLS Regression Results                            \n",
      "==============================================================================\n",
      "Dep. Variable:              testscore   R-squared:                       0.556\n",
      "Model:                            OLS   Adj. R-squared:                  0.554\n",
      "Method:                 Least Squares   F-statistic:                     428.5\n",
      "Date:                Fri, 06 Dec 2019   Prob (F-statistic):          7.37e-102\n",
      "Time:                        23:15:01   Log-Likelihood:                -1662.7\n",
      "No. Observations:                 420   AIC:                             3331.\n",
      "Df Residuals:                     417   BIC:                             3344.\n",
      "Df Model:                           2                                         \n",
      "Covariance Type:                  HC1                                         \n",
      "==================================================================================\n",
      "                     coef    std err          t      P>|t|      [0.025      0.975]\n",
      "----------------------------------------------------------------------------------\n",
      "Intercept        607.3017      2.902    209.288      0.000     601.598     613.006\n",
      "income             3.8510      0.268     14.364      0.000       3.324       4.378\n",
      "I(income ** 2)    -0.0423      0.005     -8.851      0.000      -0.052      -0.033\n",
      "==============================================================================\n",
      "Omnibus:                        0.556   Durbin-Watson:                   0.951\n",
      "Prob(Omnibus):                  0.757   Jarque-Bera (JB):                0.378\n",
      "Skew:                          -0.048   Prob(JB):                        0.828\n",
      "Kurtosis:                       3.111   Cond. No.                     2.23e+03\n",
      "==============================================================================\n",
      "\n",
      "Warnings:\n",
      "[1] Standard Errors are heteroscedasticity robust (HC1)\n",
      "[2] The condition number is large, 2.23e+03. This might indicate that there are\n",
      "strong multicollinearity or other numerical problems.\n"
     ]
    }
   ],
   "source": [
    "quadratic = smf.ols('testscore ~ income + I(income ** 2)', data2).fit()\n",
    "quadratic = quadratic.get_robustcov_results()\n",
    "print(quadratic.summary())"
   ]
  },
  {
   "cell_type": "markdown",
   "metadata": {},
   "source": [
    "#### approach1 directly"
   ]
  },
  {
   "cell_type": "code",
   "execution_count": 14,
   "metadata": {},
   "outputs": [
    {
     "name": "stdout",
     "output_type": "stream",
     "text": [
      "<F test: F=array([[299.9422744]]), p=5.120585296070162e-51, df_denom=417, df_num=1>\n"
     ]
    }
   ],
   "source": [
    "print(quadratic.f_test('income + 21 * I(income ** 2)'))"
   ]
  },
  {
   "cell_type": "code",
   "execution_count": 15,
   "metadata": {},
   "outputs": [
    {
     "name": "stdout",
     "output_type": "stream",
     "text": [
      "                             Test for Constraints                             \n",
      "==============================================================================\n",
      "                 coef    std err          t      P>|t|      [0.025      0.975]\n",
      "------------------------------------------------------------------------------\n",
      "c0             2.9625      0.171     17.319      0.000       2.626       3.299\n",
      "==============================================================================\n"
     ]
    }
   ],
   "source": [
    "print(quadratic.t_test('income + 21 * I(income ** 2)'))"
   ]
  },
  {
   "cell_type": "markdown",
   "metadata": {},
   "source": [
    "#### approach2 transform the regression"
   ]
  },
  {
   "cell_type": "code",
   "execution_count": 16,
   "metadata": {},
   "outputs": [
    {
     "name": "stdout",
     "output_type": "stream",
     "text": [
      "                             Test for Constraints                             \n",
      "==============================================================================\n",
      "                 coef    std err          t      P>|t|      [0.025      0.975]\n",
      "------------------------------------------------------------------------------\n",
      "c0             2.9625      0.171     17.319      0.000       2.626       3.299\n",
      "==============================================================================\n"
     ]
    }
   ],
   "source": [
    "z = income ** 2 - 21 * income\n",
    "transform2 = smf.ols('testscore ~ income + z', data2).fit()\n",
    "transform2 = transform2.get_robustcov_results()\n",
    "print(transform2.t_test('income'))"
   ]
  },
  {
   "cell_type": "markdown",
   "metadata": {},
   "source": [
    "### 8.2  Nonlinear Functions of a Single Independent Variable"
   ]
  },
  {
   "cell_type": "code",
   "execution_count": 17,
   "metadata": {},
   "outputs": [
    {
     "data": {
      "text/plain": [
       "[(6.4, 6.6), (0, 60)]"
      ]
     },
     "execution_count": 17,
     "metadata": {},
     "output_type": "execute_result"
    },
    {
     "data": {
      "image/png": "[encoded data removed]",
      "text/plain": [
       "<Figure size 432x288 with 1 Axes>"
      ]
     },
     "metadata": {
      "needs_background": "light"
     },
     "output_type": "display_data"
    }
   ],
   "source": [
    "fig, ax = plt.subplots()\n",
    "ax.scatter(income, np.log(testscore))\n",
    "ax.set(xlim=[0, 60], ylim=[6.4, 6.6])"
   ]
  },
  {
   "cell_type": "markdown",
   "metadata": {},
   "source": [
    "### 8.3  Interactions Between Independent Variables"
   ]
  },
  {
   "cell_type": "markdown",
   "metadata": {},
   "source": [
    "#### Application to the student–teacher ratio and the percentage of English learners p.284"
   ]
  },
  {
   "cell_type": "code",
   "execution_count": 18,
   "metadata": {},
   "outputs": [
    {
     "name": "stdout",
     "output_type": "stream",
     "text": [
      "                            OLS Regression Results                            \n",
      "==============================================================================\n",
      "Dep. Variable:              testscore   R-squared:                       0.310\n",
      "Model:                            OLS   Adj. R-squared:                  0.305\n",
      "Method:                 Least Squares   F-statistic:                     63.67\n",
      "Date:                Fri, 06 Dec 2019   Prob (F-statistic):           6.74e-34\n",
      "Time:                        23:15:01   Log-Likelihood:                -1755.3\n",
      "No. Observations:                 420   AIC:                             3519.\n",
      "Df Residuals:                     416   BIC:                             3535.\n",
      "Df Model:                           3                                         \n",
      "Covariance Type:                  HC1                                         \n",
      "==============================================================================================\n",
      "                                 coef    std err          t      P>|t|      [0.025      0.975]\n",
      "----------------------------------------------------------------------------------------------\n",
      "Intercept                    682.2458     11.868     57.487      0.000     658.917     705.574\n",
      "I(el_pct > 10)[T.True]         5.6391     19.515      0.289      0.773     -32.720      43.999\n",
      "stratio                       -0.9685      0.589     -1.644      0.101      -2.126       0.190\n",
      "I(stratio * (el_pct > 10))    -1.2766      0.967     -1.320      0.187      -3.177       0.624\n",
      "==============================================================================\n",
      "Omnibus:                        4.924   Durbin-Watson:                   0.585\n",
      "Prob(Omnibus):                  0.085   Jarque-Bera (JB):                5.019\n",
      "Skew:                           0.252   Prob(JB):                       0.0813\n",
      "Kurtosis:                       2.821   Cond. No.                         527.\n",
      "==============================================================================\n",
      "\n",
      "Warnings:\n",
      "[1] Standard Errors are heteroscedasticity robust (HC1)\n"
     ]
    }
   ],
   "source": [
    "stratio = data2.str\n",
    "interaction = smf.ols('testscore ~ stratio + I(el_pct > 10) + '\n",
    "                      + 'I(stratio * (el_pct > 10))', data2).fit()\n",
    "interaction = interaction.get_robustcov_results()\n",
    "print(interaction.summary())"
   ]
  },
  {
   "cell_type": "markdown",
   "metadata": {},
   "source": [
    "#### evaluate the policy that reduces the student–teacher ratio by 2 only in districts with a high fraction of English learners\n",
    "approach1 directly"
   ]
  },
  {
   "cell_type": "code",
   "execution_count": 19,
   "metadata": {},
   "outputs": [
    {
     "name": "stdout",
     "output_type": "stream",
     "text": [
      "                             Test for Constraints                             \n",
      "==============================================================================\n",
      "                 coef    std err          t      P>|t|      [0.025      0.975]\n",
      "------------------------------------------------------------------------------\n",
      "c0             4.4901      1.533      2.928      0.004       1.476       7.504\n",
      "==============================================================================\n"
     ]
    }
   ],
   "source": [
    "print(interaction.t_test('-2 * stratio - 2 * I(stratio * (el_pct > 10))'))"
   ]
  },
  {
   "cell_type": "markdown",
   "metadata": {},
   "source": [
    "approach2 transform the regression"
   ]
  },
  {
   "cell_type": "code",
   "execution_count": 20,
   "metadata": {},
   "outputs": [
    {
     "name": "stdout",
     "output_type": "stream",
     "text": [
      "                             Test for Constraints                             \n",
      "==============================================================================\n",
      "                 coef    std err          t      P>|t|      [0.025      0.975]\n",
      "------------------------------------------------------------------------------\n",
      "c0             4.4901      1.533      2.928      0.004       1.476       7.504\n",
      "==============================================================================\n"
     ]
    }
   ],
   "source": [
    "zz = stratio * (data2.el_pct > 10) - stratio\n",
    "transform3 = smf.ols('testscore ~ stratio + I(el_pct > 10) + zz', data2).fit()\n",
    "transform3 = transform3.get_robustcov_results()\n",
    "print(transform3.t_test('-2 * stratio'))"
   ]
  },
  {
   "cell_type": "markdown",
   "metadata": {},
   "source": [
    "#### test whether the two lines are in fact the same"
   ]
  },
  {
   "cell_type": "code",
   "execution_count": 21,
   "metadata": {},
   "outputs": [
    {
     "name": "stdout",
     "output_type": "stream",
     "text": [
      "<F test: F=array([[89.93943807]]), p=3.4558179292062126e-33, df_denom=416, df_num=2>\n"
     ]
    },
    {
     "data": {
      "image/png": "[encoded data removed]",
      "text/plain": [
       "<Figure size 432x288 with 1 Axes>"
      ]
     },
     "metadata": {
      "needs_background": "light"
     },
     "output_type": "display_data"
    }
   ],
   "source": [
    "print(interaction.f_test('I(el_pct > 10)[T.True] = 0,'\n",
    "                         + 'I(stratio * (el_pct > 10)) = 0'))\n",
    "fig, ax = plt.subplots()\n",
    "ax.scatter(stratio[data2.el_pct > 10], testscore[data2.el_pct > 10],\n",
    "           c='b', label='high PctEL')\n",
    "ax.scatter(stratio[data2.el_pct <= 10], testscore[data2.el_pct <= 10],\n",
    "           c='r', label='low PctEL')\n",
    "ax.legend();"
   ]
  },
  {
   "cell_type": "markdown",
   "metadata": {},
   "source": [
    "### 8.4 Nonlinear Effects on Test Scores  of the Student–Teacher Ratio"
   ]
  },
  {
   "cell_type": "code",
   "execution_count": 22,
   "metadata": {},
   "outputs": [
    {
     "name": "stdout",
     "output_type": "stream",
     "text": [
      "                            OLS Regression Results                            \n",
      "==============================================================================\n",
      "Dep. Variable:              testscore   R-squared:                       0.775\n",
      "Model:                            OLS   Adj. R-squared:                  0.773\n",
      "Method:                 Least Squares   F-statistic:                     453.5\n",
      "Date:                Fri, 06 Dec 2019   Prob (F-statistic):          1.05e-130\n",
      "Time:                        23:15:02   Log-Likelihood:                -1520.5\n",
      "No. Observations:                 420   AIC:                             3049.\n",
      "Df Residuals:                     416   BIC:                             3065.\n",
      "Df Model:                           3                                         \n",
      "Covariance Type:                  HC1                                         \n",
      "==============================================================================\n",
      "                 coef    std err          t      P>|t|      [0.025      0.975]\n",
      "------------------------------------------------------------------------------\n",
      "Intercept    700.1500      5.568    125.735      0.000     689.204     711.096\n",
      "stratio       -0.9983      0.270     -3.696      0.000      -1.529      -0.467\n",
      "el_pct        -0.1216      0.033     -3.703      0.000      -0.186      -0.057\n",
      "meal_pct      -0.5473      0.024    -22.705      0.000      -0.595      -0.500\n",
      "==============================================================================\n",
      "Omnibus:                        6.998   Durbin-Watson:                   1.438\n",
      "Prob(Omnibus):                  0.030   Jarque-Bera (JB):               10.626\n",
      "Skew:                          -0.024   Prob(JB):                      0.00493\n",
      "Kurtosis:                       3.778   Cond. No.                         621.\n",
      "==============================================================================\n",
      "\n",
      "Warnings:\n",
      "[1] Standard Errors are heteroscedasticity robust (HC1)\n"
     ]
    }
   ],
   "source": [
    "mod1 = smf.ols('testscore ~ stratio + el_pct + meal_pct', data2).fit()\n",
    "mod1 = mod1.get_robustcov_results()\n",
    "print(mod1.summary())"
   ]
  },
  {
   "cell_type": "code",
   "execution_count": 23,
   "metadata": {},
   "outputs": [
    {
     "name": "stdout",
     "output_type": "stream",
     "text": [
      "                            OLS Regression Results                            \n",
      "==============================================================================\n",
      "Dep. Variable:              testscore   R-squared:                       0.796\n",
      "Model:                            OLS   Adj. R-squared:                  0.794\n",
      "Method:                 Least Squares   F-statistic:                     417.2\n",
      "Date:                Fri, 06 Dec 2019   Prob (F-statistic):          6.40e-144\n",
      "Time:                        23:15:02   Log-Likelihood:                -1499.3\n",
      "No. Observations:                 420   AIC:                             3009.\n",
      "Df Residuals:                     415   BIC:                             3029.\n",
      "Df Model:                           4                                         \n",
      "Covariance Type:                  HC1                                         \n",
      "==================================================================================\n",
      "                     coef    std err          t      P>|t|      [0.025      0.975]\n",
      "----------------------------------------------------------------------------------\n",
      "Intercept        658.5520      8.642     76.208      0.000     641.565     675.539\n",
      "stratio           -0.7343      0.257     -2.860      0.004      -1.239      -0.230\n",
      "el_pct            -0.1755      0.034     -5.215      0.000      -0.242      -0.109\n",
      "meal_pct          -0.3982      0.033    -12.004      0.000      -0.463      -0.333\n",
      "np.log(income)    11.5690      1.819      6.361      0.000       7.994      15.144\n",
      "==============================================================================\n",
      "Omnibus:                        7.598   Durbin-Watson:                   1.522\n",
      "Prob(Omnibus):                  0.022   Jarque-Bera (JB):               11.949\n",
      "Skew:                           0.025   Prob(JB):                      0.00254\n",
      "Kurtosis:                       3.825   Cond. No.                     1.09e+03\n",
      "==============================================================================\n",
      "\n",
      "Warnings:\n",
      "[1] Standard Errors are heteroscedasticity robust (HC1)\n",
      "[2] The condition number is large, 1.09e+03. This might indicate that there are\n",
      "strong multicollinearity or other numerical problems.\n"
     ]
    }
   ],
   "source": [
    "mod2 = smf.ols('testscore ~ stratio + el_pct + meal_pct +'\n",
    "               + 'np.log(income)', data2).fit().get_robustcov_results()\n",
    "print(mod2.summary())"
   ]
  },
  {
   "cell_type": "code",
   "execution_count": 24,
   "metadata": {},
   "outputs": [
    {
     "name": "stdout",
     "output_type": "stream",
     "text": [
      "                            OLS Regression Results                            \n",
      "==============================================================================\n",
      "Dep. Variable:              testscore   R-squared:                       0.712\n",
      "Model:                            OLS   Adj. R-squared:                  0.710\n",
      "Method:                 Least Squares   F-statistic:                     356.6\n",
      "Date:                Fri, 06 Dec 2019   Prob (F-statistic):          1.37e-114\n",
      "Time:                        23:15:02   Log-Likelihood:                -1571.8\n",
      "No. Observations:                 420   AIC:                             3152.\n",
      "Df Residuals:                     416   BIC:                             3168.\n",
      "Df Model:                           3                                         \n",
      "Covariance Type:                  HC1                                         \n",
      "==================================================================================\n",
      "                     coef    std err          t      P>|t|      [0.025      0.975]\n",
      "----------------------------------------------------------------------------------\n",
      "Intercept        593.4803      6.895     86.074      0.000     579.927     607.034\n",
      "stratio           -0.3853      0.290     -1.329      0.184      -0.955       0.184\n",
      "el_pct            -0.4293      0.032    -13.506      0.000      -0.492      -0.367\n",
      "np.log(income)    28.3622      1.329     21.338      0.000      25.749      30.975\n",
      "==============================================================================\n",
      "Omnibus:                        2.560   Durbin-Watson:                   1.303\n",
      "Prob(Omnibus):                  0.278   Jarque-Bera (JB):                2.563\n",
      "Skew:                          -0.074   Prob(JB):                        0.278\n",
      "Kurtosis:                       3.353   Cond. No.                         402.\n",
      "==============================================================================\n",
      "\n",
      "Warnings:\n",
      "[1] Standard Errors are heteroscedasticity robust (HC1)\n"
     ]
    }
   ],
   "source": [
    "mod12 = smf.ols('testscore ~ stratio + el_pct + np.log(income)', data2).fit()\n",
    "mod12 = mod12.get_robustcov_results()\n",
    "print(mod12.summary())"
   ]
  },
  {
   "cell_type": "code",
   "execution_count": 25,
   "metadata": {},
   "outputs": [
    {
     "name": "stdout",
     "output_type": "stream",
     "text": [
      "                       (1)         (2)        (12)\n",
      "Intercept       700.149965  658.551953  593.480343\n",
      "stratio          -0.998309   -0.734326   -0.385338\n",
      "el_pct           -0.121573   -0.175534   -0.429293\n",
      "meal_pct         -0.547346   -0.398234         NaN\n",
      "np.log(income)         NaN   11.568965   28.362221\n"
     ]
    }
   ],
   "source": [
    "mod1_params = pd.Series(mod1.params, index=mod1.model.exog_names)\n",
    "mod2_params = pd.Series(mod2.params, index=mod2.model.exog_names)\n",
    "mod12_params = pd.Series(mod12.params, index=mod12.model.exog_names)\n",
    "compare12 = pd.concat([mod1_params, mod2_params, mod12_params],\n",
    "                      axis=1, sort=False)\n",
    "compare12.columns = ['(1)', '(2)', '(12)']\n",
    "print(compare12)"
   ]
  },
  {
   "cell_type": "code",
   "execution_count": 26,
   "metadata": {},
   "outputs": [
    {
     "name": "stdout",
     "output_type": "stream",
     "text": [
      "                            OLS Regression Results                            \n",
      "==============================================================================\n",
      "Dep. Variable:              testscore   R-squared:                       0.801\n",
      "Model:                            OLS   Adj. R-squared:                  0.798\n",
      "Method:                 Least Squares   F-statistic:                     281.1\n",
      "Date:                Fri, 06 Dec 2019   Prob (F-statistic):          2.03e-142\n",
      "Time:                        23:15:03   Log-Likelihood:                -1494.2\n",
      "No. Observations:                 420   AIC:                             3002.\n",
      "Df Residuals:                     413   BIC:                             3031.\n",
      "Df Model:                           6                                         \n",
      "Covariance Type:                  HC1                                         \n",
      "==========================================================================================\n",
      "                             coef    std err          t      P>|t|      [0.025      0.975]\n",
      "------------------------------------------------------------------------------------------\n",
      "Intercept                252.0509    163.634      1.540      0.124     -69.609     573.711\n",
      "I(el_pct > 10)[T.True]    -5.4740      1.034     -5.295      0.000      -7.506      -3.442\n",
      "stratio                   64.3389     24.861      2.588      0.010      15.470     113.208\n",
      "I(stratio ** 2)           -3.4239      1.250     -2.739      0.006      -5.881      -0.967\n",
      "I(stratio ** 3)            0.0593      0.021      2.856      0.005       0.018       0.100\n",
      "meal_pct                  -0.4201      0.029    -14.726      0.000      -0.476      -0.364\n",
      "np.log(income)            11.7482      1.771      6.632      0.000       8.266      15.230\n",
      "==============================================================================\n",
      "Omnibus:                       10.188   Durbin-Watson:                   1.540\n",
      "Prob(Omnibus):                  0.006   Jarque-Bera (JB):               18.307\n",
      "Skew:                          -0.038   Prob(JB):                     0.000106\n",
      "Kurtosis:                       4.020   Cond. No.                     3.26e+06\n",
      "==============================================================================\n",
      "\n",
      "Warnings:\n",
      "[1] Standard Errors are heteroscedasticity robust (HC1)\n",
      "[2] The condition number is large, 3.26e+06. This might indicate that there are\n",
      "strong multicollinearity or other numerical problems.\n"
     ]
    }
   ],
   "source": [
    "mod5 = smf.ols('testscore ~ stratio + I(stratio ** 2) + I(stratio ** 3) +'\n",
    "               + 'I(el_pct > 10) + meal_pct + np.log(income)', data2).fit()\n",
    "mod5 = mod5.get_robustcov_results()\n",
    "print(mod5.summary())"
   ]
  },
  {
   "cell_type": "code",
   "execution_count": 27,
   "metadata": {},
   "outputs": [
    {
     "name": "stdout",
     "output_type": "stream",
     "text": [
      "                            OLS Regression Results                            \n",
      "==============================================================================\n",
      "Dep. Variable:              testscore   R-squared:                       0.798\n",
      "Model:                            OLS   Adj. R-squared:                  0.795\n",
      "Method:                 Least Squares   F-statistic:                     335.2\n",
      "Date:                Fri, 06 Dec 2019   Prob (F-statistic):          4.68e-143\n",
      "Time:                        23:15:03   Log-Likelihood:                -1497.9\n",
      "No. Observations:                 420   AIC:                             3008.\n",
      "Df Residuals:                     414   BIC:                             3032.\n",
      "Df Model:                           5                                         \n",
      "Covariance Type:                  HC1                                         \n",
      "==========================================================================================\n",
      "                             coef    std err          t      P>|t|      [0.025      0.975]\n",
      "------------------------------------------------------------------------------------------\n",
      "Intercept                697.4430     34.584     20.167      0.000     629.462     765.424\n",
      "I(el_pct > 10)[T.True]    -5.6904      1.024     -5.557      0.000      -7.703      -3.678\n",
      "stratio                   -4.6712      3.343     -1.397      0.163     -11.243       1.900\n",
      "I(stratio ** 2)            0.0993      0.084      1.185      0.237      -0.065       0.264\n",
      "meal_pct                  -0.4187      0.028    -14.704      0.000      -0.475      -0.363\n",
      "np.log(income)            11.7656      1.781      6.605      0.000       8.264      15.267\n",
      "==============================================================================\n",
      "Omnibus:                        8.407   Durbin-Watson:                   1.535\n",
      "Prob(Omnibus):                  0.015   Jarque-Bera (JB):               13.756\n",
      "Skew:                          -0.038   Prob(JB):                      0.00103\n",
      "Kurtosis:                       3.883   Cond. No.                     2.77e+04\n",
      "==============================================================================\n",
      "\n",
      "Warnings:\n",
      "[1] Standard Errors are heteroscedasticity robust (HC1)\n",
      "[2] The condition number is large, 2.77e+04. This might indicate that there are\n",
      "strong multicollinearity or other numerical problems.\n"
     ]
    }
   ],
   "source": [
    "mod51 = smf.ols('testscore ~ stratio + I(stratio ** 2) +'\n",
    "               + 'I(el_pct > 10) + meal_pct + np.log(income)', data2).fit()\n",
    "mod51 = mod51.get_robustcov_results()\n",
    "print(mod51.summary())"
   ]
  },
  {
   "cell_type": "code",
   "execution_count": 28,
   "metadata": {},
   "outputs": [
    {
     "name": "stdout",
     "output_type": "stream",
     "text": [
      "                            OLS Regression Results                            \n",
      "==============================================================================\n",
      "Dep. Variable:              testscore   R-squared:                       0.801\n",
      "Model:                            OLS   Adj. R-squared:                  0.798\n",
      "Method:                 Least Squares   F-statistic:                     277.6\n",
      "Date:                Fri, 06 Dec 2019   Prob (F-statistic):          2.47e-141\n",
      "Time:                        23:15:03   Log-Likelihood:                -1494.1\n",
      "No. Observations:                 420   AIC:                             3004.\n",
      "Df Residuals:                     412   BIC:                             3037.\n",
      "Df Model:                           7                                         \n",
      "Covariance Type:                  HC1                                         \n",
      "==========================================================================================\n",
      "                             coef    std err          t      P>|t|      [0.025      0.975]\n",
      "------------------------------------------------------------------------------------------\n",
      "Intercept                523.8482   1103.413      0.475      0.635   -1645.174    2692.870\n",
      "I(el_pct > 10)[T.True]    -5.4507      1.029     -5.299      0.000      -7.473      -3.429\n",
      "stratio                    7.9317    225.708      0.035      0.972    -435.751     451.614\n",
      "I(stratio ** 2)            0.9179     17.140      0.054      0.957     -32.775      34.611\n",
      "I(stratio ** 3)           -0.0877      0.573     -0.153      0.878      -1.214       1.039\n",
      "I(stratio ** 4)            0.0018      0.007      0.259      0.795      -0.012       0.016\n",
      "meal_pct                  -0.4199      0.029    -14.660      0.000      -0.476      -0.364\n",
      "np.log(income)            11.7793      1.778      6.625      0.000       8.284      15.275\n",
      "==============================================================================\n",
      "Omnibus:                       10.008   Durbin-Watson:                   1.539\n",
      "Prob(Omnibus):                  0.007   Jarque-Bera (JB):               17.864\n",
      "Skew:                          -0.033   Prob(JB):                     0.000132\n",
      "Kurtosis:                       4.008   Cond. No.                     4.35e+08\n",
      "==============================================================================\n",
      "\n",
      "Warnings:\n",
      "[1] Standard Errors are heteroscedasticity robust (HC1)\n",
      "[2] The condition number is large, 4.35e+08. This might indicate that there are\n",
      "strong multicollinearity or other numerical problems.\n"
     ]
    },
    {
     "name": "stderr",
     "output_type": "stream",
     "text": [
      "D:\\anaconda\\lib\\site-packages\\statsmodels\\base\\model.py:1752: ValueWarning: covariance of constraints does not have full rank. The number of constraints is 7, but rank is 6\n",
      "  'rank is %d' % (J, J_), ValueWarning)\n"
     ]
    }
   ],
   "source": [
    "mod52 = smf.ols('testscore ~ stratio + I(stratio ** 2) +'\n",
    "                + 'I(stratio ** 3) + I(stratio ** 4) +'\n",
    "                + 'I(el_pct > 10) + meal_pct + np.log(income)', data2).fit()\n",
    "mod52 = mod52.get_robustcov_results()\n",
    "print(mod52.summary())"
   ]
  },
  {
   "cell_type": "code",
   "execution_count": 29,
   "metadata": {},
   "outputs": [
    {
     "name": "stdout",
     "output_type": "stream",
     "text": [
      "                            OLS Regression Results                            \n",
      "==============================================================================\n",
      "Dep. Variable:              testscore   R-squared:                       0.801\n",
      "Model:                            OLS   Adj. R-squared:                  0.798\n",
      "Method:                 Least Squares   F-statistic:                     236.6\n",
      "Date:                Fri, 06 Dec 2019   Prob (F-statistic):          7.20e-140\n",
      "Time:                        23:15:03   Log-Likelihood:                -1493.8\n",
      "No. Observations:                 420   AIC:                             3006.\n",
      "Df Residuals:                     411   BIC:                             3042.\n",
      "Df Model:                           8                                         \n",
      "Covariance Type:                  HC1                                         \n",
      "==========================================================================================\n",
      "                             coef    std err          t      P>|t|      [0.025      0.975]\n",
      "------------------------------------------------------------------------------------------\n",
      "Intercept              -5135.3923   6527.998     -0.787      0.432    -1.8e+04    7697.038\n",
      "I(el_pct > 10)[T.True]    -5.4670      1.022     -5.348      0.000      -7.477      -3.457\n",
      "stratio                 1482.7146   1684.231      0.880      0.379   -1828.067    4793.496\n",
      "I(stratio ** 2)         -151.4255    172.347     -0.879      0.380    -490.217     187.366\n",
      "I(stratio ** 3)            7.7113      8.747      0.882      0.379      -9.483      24.906\n",
      "I(stratio ** 4)           -0.1961      0.220     -0.890      0.374      -0.629       0.237\n",
      "I(stratio ** 5)            0.0020      0.002      0.905      0.366      -0.002       0.006\n",
      "meal_pct                  -0.4208      0.029    -14.671      0.000      -0.477      -0.364\n",
      "np.log(income)            11.7048      1.790      6.537      0.000       8.185      15.224\n",
      "==============================================================================\n",
      "Omnibus:                       10.590   Durbin-Watson:                   1.538\n",
      "Prob(Omnibus):                  0.005   Jarque-Bera (JB):               19.356\n",
      "Skew:                          -0.044   Prob(JB):                     6.26e-05\n",
      "Kurtosis:                       4.048   Cond. No.                     5.94e+10\n",
      "==============================================================================\n",
      "\n",
      "Warnings:\n",
      "[1] Standard Errors are heteroscedasticity robust (HC1)\n",
      "[2] The condition number is large, 5.94e+10. This might indicate that there are\n",
      "strong multicollinearity or other numerical problems.\n"
     ]
    },
    {
     "name": "stderr",
     "output_type": "stream",
     "text": [
      "D:\\anaconda\\lib\\site-packages\\statsmodels\\base\\model.py:1752: ValueWarning: covariance of constraints does not have full rank. The number of constraints is 8, but rank is 7\n",
      "  'rank is %d' % (J, J_), ValueWarning)\n"
     ]
    }
   ],
   "source": [
    "mod53 = smf.ols('testscore ~ stratio + I(stratio ** 2) +'\n",
    "                + 'I(stratio ** 3) + I(stratio ** 4) + I(stratio ** 5) +'\n",
    "                + 'I(el_pct > 10) + meal_pct + np.log(income)', data2).fit()\n",
    "mod53 = mod53.get_robustcov_results()\n",
    "print(mod53.summary())"
   ]
  },
  {
   "cell_type": "code",
   "execution_count": 30,
   "metadata": {},
   "outputs": [
    {
     "name": "stdout",
     "output_type": "stream",
     "text": [
      "                                 (5)          (51)          (52)          (53)\n",
      "Intercept               1.242454e-01  1.687071e-63  6.352149e-01  4.319274e-01\n",
      "I(el_pct > 10)[T.True]  1.936167e-07  4.922960e-08  1.898687e-07  1.481672e-07\n",
      "stratio                 9.994147e-03  1.630842e-01  9.719839e-01  3.791836e-01\n",
      "I(stratio ** 2)         6.423264e-03  2.367501e-01  9.573166e-01  3.801264e-01\n",
      "I(stratio ** 3)         4.513575e-03           NaN  8.784374e-01  3.785057e-01\n",
      "meal_pct                9.457924e-40  1.115982e-39  1.858624e-39  1.734225e-39\n",
      "np.log(income)          1.039719e-10  1.225095e-10  1.090228e-10  1.860770e-10\n",
      "I(stratio ** 4)                  NaN           NaN  7.954036e-01  3.738245e-01\n",
      "I(stratio ** 5)                  NaN           NaN           NaN  3.659456e-01\n"
     ]
    }
   ],
   "source": [
    "mod5_pv = pd.Series(mod5.pvalues, index=mod5.model.exog_names)\n",
    "mod51_pv = pd.Series(mod51.pvalues, index=mod51.model.exog_names)\n",
    "mod52_pv = pd.Series(mod52.pvalues, index=mod52.model.exog_names)\n",
    "mod53_pv = pd.Series(mod53.pvalues, index=mod53.model.exog_names)\n",
    "compare5 = pd.concat([mod5_pv, mod51_pv, mod52_pv, mod53_pv],\n",
    "                     axis=1, sort=False)\n",
    "compare5.columns = ['(5)', '(51)', '(52)', '(53)']\n",
    "print(compare5)"
   ]
  },
  {
   "cell_type": "markdown",
   "metadata": {},
   "source": [
    "### Appendix 8.1 Regression Functions That Are Nonlinear in the Parameters"
   ]
  },
  {
   "cell_type": "code",
   "execution_count": 31,
   "metadata": {},
   "outputs": [
    {
     "name": "stdout",
     "output_type": "stream",
     "text": [
      "Warning: Desired error not necessarily achieved due to precision loss.\n",
      "         Current function value: 66988.395229\n",
      "         Iterations: 80\n",
      "         Function evaluations: 792\n",
      "         Gradient evaluations: 156\n"
     ]
    }
   ],
   "source": [
    "_negexp = lambda b: testscore - b[0] * (1 - np.exp(-b[1] * (income - b[2])))\n",
    "t = leastsq(_negexp, [750, 0, 0], full_output=True)\n",
    "negexp = lambda b: np.sum(_negexp(b) ** 2)\n",
    "tt = fmin_bfgs(negexp, [750, 0, 0], full_output=True)\n",
    "fopt = tt[1]\n",
    "Bopt = tt[3]\n",
    "sigma_sq = fopt / testscore.size\n",
    "var = sigma_sq * 2 * Bopt\n",
    "se = np.sqrt(np.diag(var))\n",
    "res = pd.DataFrame({'coef': tt[0], 'se': se}, index=['beta{0}'.format(I) for I in range(3)])"
   ]
  },
  {
   "cell_type": "code",
   "execution_count": 32,
   "metadata": {},
   "outputs": [
    {
     "data": {
      "text/html": [
       "<div>\n",
       "<style scoped>\n",
       "    .dataframe tbody tr th:only-of-type {\n",
       "        vertical-align: middle;\n",
       "    }\n",
       "\n",
       "    .dataframe tbody tr th {\n",
       "        vertical-align: top;\n",
       "    }\n",
       "\n",
       "    .dataframe thead th {\n",
       "        text-align: right;\n",
       "    }\n",
       "</style>\n",
       "<table border=\"1\" class=\"dataframe\">\n",
       "  <thead>\n",
       "    <tr style=\"text-align: right;\">\n",
       "      <th></th>\n",
       "      <th>coef</th>\n",
       "      <th>se</th>\n",
       "    </tr>\n",
       "  </thead>\n",
       "  <tbody>\n",
       "    <tr>\n",
       "      <th>beta0</th>\n",
       "      <td>703.226603</td>\n",
       "      <td>2.610243</td>\n",
       "    </tr>\n",
       "    <tr>\n",
       "      <th>beta1</th>\n",
       "      <td>0.055227</td>\n",
       "      <td>0.006134</td>\n",
       "    </tr>\n",
       "    <tr>\n",
       "      <th>beta2</th>\n",
       "      <td>-34.007886</td>\n",
       "      <td>4.348362</td>\n",
       "    </tr>\n",
       "  </tbody>\n",
       "</table>\n",
       "</div>"
      ],
      "text/plain": [
       "             coef        se\n",
       "beta0  703.226603  2.610243\n",
       "beta1    0.055227  0.006134\n",
       "beta2  -34.007886  4.348362"
      ]
     },
     "metadata": {},
     "output_type": "display_data"
    }
   ],
   "source": [
    "display(res)"
   ]
  }
 ],
 "metadata": {
  "kernelspec": {
   "display_name": "Python 3",
   "language": "python",
   "name": "python3"
  },
  "language_info": {
   "codemirror_mode": {
    "name": "ipython",
    "version": 3
   },
   "file_extension": ".py",
   "mimetype": "text/x-python",
   "name": "python",
   "nbconvert_exporter": "python",
   "pygments_lexer": "ipython3",
   "version": "3.7.3"
  }
 },
 "nbformat": 4,
 "nbformat_minor": 2
}
